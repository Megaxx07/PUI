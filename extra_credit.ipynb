{
 "cells": [
  {
   "cell_type": "markdown",
   "metadata": {},
   "source": [
    "## Extra credit assignment\n",
    "\n",
    "In this homework, you will use two data sets: NYC restaurant inspections and 311 complaints. NYC DOHMH conducts inspections for all restaurants in the city on regular basis and report or take suitable action against the concerned restaurant. You'll use features from the restaurant violations and will check how well these are to predict the 311 complaint types regarding restaurants. You will also use clustering to check which areas are similar in terms of restaurant violations. "
   ]
  },
  {
   "cell_type": "code",
   "execution_count": 200,
   "metadata": {},
   "outputs": [],
   "source": [
    "import pandas as pd\n",
    "import numpy as np\n",
    "import os\n",
    "import requests\n",
    "import zipfile\n",
    "from datetime import datetime\n",
    "import geopandas as gpd\n",
    "from sklearn.cluster import KMeans\n",
    "from sklearn.metrics import silhouette_samples, silhouette_score\n",
    "from scipy.spatial.distance import cdist, pdist\n",
    "import statsmodels.formula.api as smf\n",
    "import urllib\n",
    "import matplotlib.cm as cm\n",
    "from sklearn import metrics\n",
    "from sklearn import preprocessing\n",
    "from matplotlib import pyplot as plt\n",
    "\n",
    "import warnings\n",
    "warnings.simplefilter(action='ignore', category=Warning)\n",
    "%matplotlib inline"
   ]
  },
  {
   "cell_type": "markdown",
   "metadata": {},
   "source": [
    "### Download restaurant inspections data\n",
    "\n",
    "other method is to manually download from the website: https://data.cityofnewyork.us/Health/DOHMH-New-York-City-Restaurant-Inspection-Results/43nn-pn8j"
   ]
  },
  {
   "cell_type": "code",
   "execution_count": 201,
   "metadata": {},
   "outputs": [
    {
     "data": {
      "text/html": [
       "<div>\n",
       "<style scoped>\n",
       "    .dataframe tbody tr th:only-of-type {\n",
       "        vertical-align: middle;\n",
       "    }\n",
       "\n",
       "    .dataframe tbody tr th {\n",
       "        vertical-align: top;\n",
       "    }\n",
       "\n",
       "    .dataframe thead th {\n",
       "        text-align: right;\n",
       "    }\n",
       "</style>\n",
       "<table border=\"1\" class=\"dataframe\">\n",
       "  <thead>\n",
       "    <tr style=\"text-align: right;\">\n",
       "      <th></th>\n",
       "      <th>CAMIS</th>\n",
       "      <th>DBA</th>\n",
       "      <th>BORO</th>\n",
       "      <th>BUILDING</th>\n",
       "      <th>STREET</th>\n",
       "      <th>ZIPCODE</th>\n",
       "      <th>PHONE</th>\n",
       "      <th>CUISINE DESCRIPTION</th>\n",
       "      <th>INSPECTION DATE</th>\n",
       "      <th>ACTION</th>\n",
       "      <th>...</th>\n",
       "      <th>RECORD DATE</th>\n",
       "      <th>INSPECTION TYPE</th>\n",
       "      <th>Latitude</th>\n",
       "      <th>Longitude</th>\n",
       "      <th>Community Board</th>\n",
       "      <th>Council District</th>\n",
       "      <th>Census Tract</th>\n",
       "      <th>BIN</th>\n",
       "      <th>BBL</th>\n",
       "      <th>NTA</th>\n",
       "    </tr>\n",
       "  </thead>\n",
       "  <tbody>\n",
       "    <tr>\n",
       "      <th>0</th>\n",
       "      <td>50100205</td>\n",
       "      <td>FOUR FOUR SOUTH VILLAGE TAIPEI BEEF NOODLES</td>\n",
       "      <td>Queens</td>\n",
       "      <td>3806</td>\n",
       "      <td>PRINCE ST</td>\n",
       "      <td>11354.0</td>\n",
       "      <td>7183137588</td>\n",
       "      <td>Chinese</td>\n",
       "      <td>2019-11-14</td>\n",
       "      <td>Violations were cited in the following area(s).</td>\n",
       "      <td>...</td>\n",
       "      <td>11/30/2021</td>\n",
       "      <td>Pre-permit (Operational) / Initial Inspection</td>\n",
       "      <td>40.760066</td>\n",
       "      <td>-73.832570</td>\n",
       "      <td>407.0</td>\n",
       "      <td>20.0</td>\n",
       "      <td>87100.0</td>\n",
       "      <td>4439964.0</td>\n",
       "      <td>4.049720e+09</td>\n",
       "      <td>QN22</td>\n",
       "    </tr>\n",
       "    <tr>\n",
       "      <th>1</th>\n",
       "      <td>41434246</td>\n",
       "      <td>SILVER KITCHEN</td>\n",
       "      <td>Queens</td>\n",
       "      <td>4301</td>\n",
       "      <td>21 STREET</td>\n",
       "      <td>11101.0</td>\n",
       "      <td>7184331327</td>\n",
       "      <td>American</td>\n",
       "      <td>2018-08-15</td>\n",
       "      <td>Violations were cited in the following area(s).</td>\n",
       "      <td>...</td>\n",
       "      <td>11/30/2021</td>\n",
       "      <td>Cycle Inspection / Re-inspection</td>\n",
       "      <td>40.750557</td>\n",
       "      <td>-73.945718</td>\n",
       "      <td>402.0</td>\n",
       "      <td>26.0</td>\n",
       "      <td>1900.0</td>\n",
       "      <td>4005198.0</td>\n",
       "      <td>4.004410e+09</td>\n",
       "      <td>QN31</td>\n",
       "    </tr>\n",
       "    <tr>\n",
       "      <th>2</th>\n",
       "      <td>41139783</td>\n",
       "      <td>JK &amp; SONS COFFEE SHOP</td>\n",
       "      <td>Brooklyn</td>\n",
       "      <td>801</td>\n",
       "      <td>BROADWAY</td>\n",
       "      <td>11206.0</td>\n",
       "      <td>7187822366</td>\n",
       "      <td>American</td>\n",
       "      <td>2018-09-25</td>\n",
       "      <td>Violations were cited in the following area(s).</td>\n",
       "      <td>...</td>\n",
       "      <td>11/30/2021</td>\n",
       "      <td>Cycle Inspection / Re-inspection</td>\n",
       "      <td>40.699713</td>\n",
       "      <td>-73.940137</td>\n",
       "      <td>304.0</td>\n",
       "      <td>34.0</td>\n",
       "      <td>38900.0</td>\n",
       "      <td>3071691.0</td>\n",
       "      <td>3.031320e+09</td>\n",
       "      <td>BK78</td>\n",
       "    </tr>\n",
       "    <tr>\n",
       "      <th>3</th>\n",
       "      <td>40394762</td>\n",
       "      <td>CAROLINE'S ON BROADWAY</td>\n",
       "      <td>Manhattan</td>\n",
       "      <td>750</td>\n",
       "      <td>7 AVENUE</td>\n",
       "      <td>10019.0</td>\n",
       "      <td>2127574100</td>\n",
       "      <td>American</td>\n",
       "      <td>2017-10-18</td>\n",
       "      <td>Violations were cited in the following area(s).</td>\n",
       "      <td>...</td>\n",
       "      <td>11/30/2021</td>\n",
       "      <td>Cycle Inspection / Initial Inspection</td>\n",
       "      <td>40.760746</td>\n",
       "      <td>-73.983525</td>\n",
       "      <td>105.0</td>\n",
       "      <td>4.0</td>\n",
       "      <td>12500.0</td>\n",
       "      <td>1024795.0</td>\n",
       "      <td>1.010210e+09</td>\n",
       "      <td>MN17</td>\n",
       "    </tr>\n",
       "    <tr>\n",
       "      <th>4</th>\n",
       "      <td>50102980</td>\n",
       "      <td>THE HOLY GROUP</td>\n",
       "      <td>Queens</td>\n",
       "      <td>10402</td>\n",
       "      <td>NORTHERN BLVD</td>\n",
       "      <td>11368.0</td>\n",
       "      <td>9176226465</td>\n",
       "      <td>Other</td>\n",
       "      <td>2021-09-14</td>\n",
       "      <td>Violations were cited in the following area(s).</td>\n",
       "      <td>...</td>\n",
       "      <td>11/30/2021</td>\n",
       "      <td>Pre-permit (Operational) / Initial Inspection</td>\n",
       "      <td>40.757684</td>\n",
       "      <td>-73.864471</td>\n",
       "      <td>403.0</td>\n",
       "      <td>21.0</td>\n",
       "      <td>37900.0</td>\n",
       "      <td>4042649.0</td>\n",
       "      <td>4.017190e+09</td>\n",
       "      <td>QN26</td>\n",
       "    </tr>\n",
       "  </tbody>\n",
       "</table>\n",
       "<p>5 rows × 26 columns</p>\n",
       "</div>"
      ],
      "text/plain": [
       "      CAMIS                                          DBA       BORO BUILDING  \\\n",
       "0  50100205  FOUR FOUR SOUTH VILLAGE TAIPEI BEEF NOODLES     Queens     3806   \n",
       "1  41434246                               SILVER KITCHEN     Queens     4301   \n",
       "2  41139783                        JK & SONS COFFEE SHOP   Brooklyn      801   \n",
       "3  40394762                       CAROLINE'S ON BROADWAY  Manhattan      750   \n",
       "4  50102980                               THE HOLY GROUP     Queens    10402   \n",
       "\n",
       "          STREET  ZIPCODE       PHONE CUISINE DESCRIPTION INSPECTION DATE  \\\n",
       "0      PRINCE ST  11354.0  7183137588             Chinese      2019-11-14   \n",
       "1      21 STREET  11101.0  7184331327            American      2018-08-15   \n",
       "2       BROADWAY  11206.0  7187822366            American      2018-09-25   \n",
       "3       7 AVENUE  10019.0  2127574100            American      2017-10-18   \n",
       "4  NORTHERN BLVD  11368.0  9176226465               Other      2021-09-14   \n",
       "\n",
       "                                            ACTION  ... RECORD DATE  \\\n",
       "0  Violations were cited in the following area(s).  ...  11/30/2021   \n",
       "1  Violations were cited in the following area(s).  ...  11/30/2021   \n",
       "2  Violations were cited in the following area(s).  ...  11/30/2021   \n",
       "3  Violations were cited in the following area(s).  ...  11/30/2021   \n",
       "4  Violations were cited in the following area(s).  ...  11/30/2021   \n",
       "\n",
       "                                 INSPECTION TYPE   Latitude  Longitude  \\\n",
       "0  Pre-permit (Operational) / Initial Inspection  40.760066 -73.832570   \n",
       "1               Cycle Inspection / Re-inspection  40.750557 -73.945718   \n",
       "2               Cycle Inspection / Re-inspection  40.699713 -73.940137   \n",
       "3          Cycle Inspection / Initial Inspection  40.760746 -73.983525   \n",
       "4  Pre-permit (Operational) / Initial Inspection  40.757684 -73.864471   \n",
       "\n",
       "  Community Board Council District Census Tract        BIN           BBL   NTA  \n",
       "0           407.0             20.0      87100.0  4439964.0  4.049720e+09  QN22  \n",
       "1           402.0             26.0       1900.0  4005198.0  4.004410e+09  QN31  \n",
       "2           304.0             34.0      38900.0  3071691.0  3.031320e+09  BK78  \n",
       "3           105.0              4.0      12500.0  1024795.0  1.010210e+09  MN17  \n",
       "4           403.0             21.0      37900.0  4042649.0  4.017190e+09  QN26  \n",
       "\n",
       "[5 rows x 26 columns]"
      ]
     },
     "execution_count": 201,
     "metadata": {},
     "output_type": "execute_result"
    }
   ],
   "source": [
    "## read the data\n",
    "\n",
    "data = pd.read_csv('/home/jovyan/shared/Data/DOHMH_New_York_City_Restaurant_Inspection_Results.csv', parse_dates=['INSPECTION DATE'])\n",
    "data.head()"
   ]
  },
  {
   "cell_type": "code",
   "execution_count": 202,
   "metadata": {},
   "outputs": [
    {
     "data": {
      "text/plain": [
       "Index(['CAMIS', 'DBA', 'BORO', 'BUILDING', 'STREET', 'ZIPCODE', 'PHONE',\n",
       "       'CUISINE DESCRIPTION', 'INSPECTION DATE', 'ACTION', 'VIOLATION CODE',\n",
       "       'VIOLATION DESCRIPTION', 'CRITICAL FLAG', 'SCORE', 'GRADE',\n",
       "       'GRADE DATE', 'RECORD DATE', 'INSPECTION TYPE', 'Latitude', 'Longitude',\n",
       "       'Community Board', 'Council District', 'Census Tract', 'BIN', 'BBL',\n",
       "       'NTA'],\n",
       "      dtype='object')"
      ]
     },
     "execution_count": 202,
     "metadata": {},
     "output_type": "execute_result"
    }
   ],
   "source": [
    "data.columns"
   ]
  },
  {
   "cell_type": "markdown",
   "metadata": {},
   "source": [
    "You only need certain columns for the tasks, namely 'CAMIS', 'ZIPCODE', 'INSPECTION DATE', 'ACTION', 'VIOLATION DESCRIPTION', 'SCORE', 'GRADE', 'Latitude', 'Longitude'\n",
    "\n",
    "'CAMIS' is a unique identifier for a restaurant/business. 'INSPECTION DATE' is the date on which inspection took place. 'ACTION' tells what kind of action was taken, 'VIOLATION DESCRIPTION' is the type of violation reported.\n",
    "\n",
    "'SCORE' is the measure of severity of violations reported. A higher score means the restaurant had more violations/bad violations. \n",
    "\n",
    "'GRADE' is also a measure of restaurant violations. The best grade is 'A' (which means restaurant had minor/no violations), followed by 'B' and 'C', which mean more serious violations. 'P' grade means the inspection is pending and 'N' and 'Z' mean grades was not assigned due to some reasons."
   ]
  },
  {
   "cell_type": "code",
   "execution_count": 203,
   "metadata": {},
   "outputs": [
    {
     "data": {
      "text/html": [
       "<div>\n",
       "<style scoped>\n",
       "    .dataframe tbody tr th:only-of-type {\n",
       "        vertical-align: middle;\n",
       "    }\n",
       "\n",
       "    .dataframe tbody tr th {\n",
       "        vertical-align: top;\n",
       "    }\n",
       "\n",
       "    .dataframe thead th {\n",
       "        text-align: right;\n",
       "    }\n",
       "</style>\n",
       "<table border=\"1\" class=\"dataframe\">\n",
       "  <thead>\n",
       "    <tr style=\"text-align: right;\">\n",
       "      <th></th>\n",
       "      <th>CAMIS</th>\n",
       "      <th>ZIPCODE</th>\n",
       "      <th>INSPECTION DATE</th>\n",
       "      <th>ACTION</th>\n",
       "      <th>VIOLATION DESCRIPTION</th>\n",
       "      <th>SCORE</th>\n",
       "      <th>GRADE</th>\n",
       "      <th>Latitude</th>\n",
       "      <th>Longitude</th>\n",
       "    </tr>\n",
       "  </thead>\n",
       "  <tbody>\n",
       "    <tr>\n",
       "      <th>0</th>\n",
       "      <td>50100205</td>\n",
       "      <td>11354.0</td>\n",
       "      <td>2019-11-14</td>\n",
       "      <td>Violations were cited in the following area(s).</td>\n",
       "      <td>Pesticide use not in accordance with label or ...</td>\n",
       "      <td>2.0</td>\n",
       "      <td>NaN</td>\n",
       "      <td>40.760066</td>\n",
       "      <td>-73.832570</td>\n",
       "    </tr>\n",
       "    <tr>\n",
       "      <th>1</th>\n",
       "      <td>41434246</td>\n",
       "      <td>11101.0</td>\n",
       "      <td>2018-08-15</td>\n",
       "      <td>Violations were cited in the following area(s).</td>\n",
       "      <td>Facility not vermin proof. Harborage or condit...</td>\n",
       "      <td>44.0</td>\n",
       "      <td>C</td>\n",
       "      <td>40.750557</td>\n",
       "      <td>-73.945718</td>\n",
       "    </tr>\n",
       "    <tr>\n",
       "      <th>2</th>\n",
       "      <td>41139783</td>\n",
       "      <td>11206.0</td>\n",
       "      <td>2018-09-25</td>\n",
       "      <td>Violations were cited in the following area(s).</td>\n",
       "      <td>Facility not vermin proof. Harborage or condit...</td>\n",
       "      <td>25.0</td>\n",
       "      <td>B</td>\n",
       "      <td>40.699713</td>\n",
       "      <td>-73.940137</td>\n",
       "    </tr>\n",
       "    <tr>\n",
       "      <th>3</th>\n",
       "      <td>40394762</td>\n",
       "      <td>10019.0</td>\n",
       "      <td>2017-10-18</td>\n",
       "      <td>Violations were cited in the following area(s).</td>\n",
       "      <td>Plumbing not properly installed or maintained;...</td>\n",
       "      <td>15.0</td>\n",
       "      <td>NaN</td>\n",
       "      <td>40.760746</td>\n",
       "      <td>-73.983525</td>\n",
       "    </tr>\n",
       "    <tr>\n",
       "      <th>4</th>\n",
       "      <td>50102980</td>\n",
       "      <td>11368.0</td>\n",
       "      <td>2021-09-14</td>\n",
       "      <td>Violations were cited in the following area(s).</td>\n",
       "      <td>Cold food item held above 41º F (smoked fish a...</td>\n",
       "      <td>17.0</td>\n",
       "      <td>N</td>\n",
       "      <td>40.757684</td>\n",
       "      <td>-73.864471</td>\n",
       "    </tr>\n",
       "    <tr>\n",
       "      <th>...</th>\n",
       "      <td>...</td>\n",
       "      <td>...</td>\n",
       "      <td>...</td>\n",
       "      <td>...</td>\n",
       "      <td>...</td>\n",
       "      <td>...</td>\n",
       "      <td>...</td>\n",
       "      <td>...</td>\n",
       "      <td>...</td>\n",
       "    </tr>\n",
       "    <tr>\n",
       "      <th>383166</th>\n",
       "      <td>50074863</td>\n",
       "      <td>11421.0</td>\n",
       "      <td>2018-04-26</td>\n",
       "      <td>Violations were cited in the following area(s).</td>\n",
       "      <td>Non-food contact surface improperly constructe...</td>\n",
       "      <td>10.0</td>\n",
       "      <td>NaN</td>\n",
       "      <td>40.691327</td>\n",
       "      <td>-73.867033</td>\n",
       "    </tr>\n",
       "    <tr>\n",
       "      <th>383167</th>\n",
       "      <td>50074863</td>\n",
       "      <td>11421.0</td>\n",
       "      <td>2018-04-26</td>\n",
       "      <td>Violations were cited in the following area(s).</td>\n",
       "      <td>Non-food contact surface improperly constructe...</td>\n",
       "      <td>10.0</td>\n",
       "      <td>NaN</td>\n",
       "      <td>40.691327</td>\n",
       "      <td>-73.867033</td>\n",
       "    </tr>\n",
       "    <tr>\n",
       "      <th>383168</th>\n",
       "      <td>50074863</td>\n",
       "      <td>11421.0</td>\n",
       "      <td>2018-04-26</td>\n",
       "      <td>Violations were cited in the following area(s).</td>\n",
       "      <td>Non-food contact surface improperly constructe...</td>\n",
       "      <td>10.0</td>\n",
       "      <td>NaN</td>\n",
       "      <td>40.691327</td>\n",
       "      <td>-73.867033</td>\n",
       "    </tr>\n",
       "    <tr>\n",
       "      <th>383169</th>\n",
       "      <td>40369017</td>\n",
       "      <td>10017.0</td>\n",
       "      <td>2019-09-10</td>\n",
       "      <td>Violations were cited in the following area(s).</td>\n",
       "      <td>Cold food item held above 41º F (smoked fish a...</td>\n",
       "      <td>31.0</td>\n",
       "      <td>NaN</td>\n",
       "      <td>40.751554</td>\n",
       "      <td>-73.970927</td>\n",
       "    </tr>\n",
       "    <tr>\n",
       "      <th>383170</th>\n",
       "      <td>41276200</td>\n",
       "      <td>10460.0</td>\n",
       "      <td>2018-05-29</td>\n",
       "      <td>Violations were cited in the following area(s).</td>\n",
       "      <td>Evidence of mice or live mice present in facil...</td>\n",
       "      <td>16.0</td>\n",
       "      <td>NaN</td>\n",
       "      <td>40.843196</td>\n",
       "      <td>-73.886671</td>\n",
       "    </tr>\n",
       "  </tbody>\n",
       "</table>\n",
       "<p>383171 rows × 9 columns</p>\n",
       "</div>"
      ],
      "text/plain": [
       "           CAMIS  ZIPCODE INSPECTION DATE  \\\n",
       "0       50100205  11354.0      2019-11-14   \n",
       "1       41434246  11101.0      2018-08-15   \n",
       "2       41139783  11206.0      2018-09-25   \n",
       "3       40394762  10019.0      2017-10-18   \n",
       "4       50102980  11368.0      2021-09-14   \n",
       "...          ...      ...             ...   \n",
       "383166  50074863  11421.0      2018-04-26   \n",
       "383167  50074863  11421.0      2018-04-26   \n",
       "383168  50074863  11421.0      2018-04-26   \n",
       "383169  40369017  10017.0      2019-09-10   \n",
       "383170  41276200  10460.0      2018-05-29   \n",
       "\n",
       "                                                 ACTION  \\\n",
       "0       Violations were cited in the following area(s).   \n",
       "1       Violations were cited in the following area(s).   \n",
       "2       Violations were cited in the following area(s).   \n",
       "3       Violations were cited in the following area(s).   \n",
       "4       Violations were cited in the following area(s).   \n",
       "...                                                 ...   \n",
       "383166  Violations were cited in the following area(s).   \n",
       "383167  Violations were cited in the following area(s).   \n",
       "383168  Violations were cited in the following area(s).   \n",
       "383169  Violations were cited in the following area(s).   \n",
       "383170  Violations were cited in the following area(s).   \n",
       "\n",
       "                                    VIOLATION DESCRIPTION  SCORE GRADE  \\\n",
       "0       Pesticide use not in accordance with label or ...    2.0   NaN   \n",
       "1       Facility not vermin proof. Harborage or condit...   44.0     C   \n",
       "2       Facility not vermin proof. Harborage or condit...   25.0     B   \n",
       "3       Plumbing not properly installed or maintained;...   15.0   NaN   \n",
       "4       Cold food item held above 41º F (smoked fish a...   17.0     N   \n",
       "...                                                   ...    ...   ...   \n",
       "383166  Non-food contact surface improperly constructe...   10.0   NaN   \n",
       "383167  Non-food contact surface improperly constructe...   10.0   NaN   \n",
       "383168  Non-food contact surface improperly constructe...   10.0   NaN   \n",
       "383169  Cold food item held above 41º F (smoked fish a...   31.0   NaN   \n",
       "383170  Evidence of mice or live mice present in facil...   16.0   NaN   \n",
       "\n",
       "         Latitude  Longitude  \n",
       "0       40.760066 -73.832570  \n",
       "1       40.750557 -73.945718  \n",
       "2       40.699713 -73.940137  \n",
       "3       40.760746 -73.983525  \n",
       "4       40.757684 -73.864471  \n",
       "...           ...        ...  \n",
       "383166  40.691327 -73.867033  \n",
       "383167  40.691327 -73.867033  \n",
       "383168  40.691327 -73.867033  \n",
       "383169  40.751554 -73.970927  \n",
       "383170  40.843196 -73.886671  \n",
       "\n",
       "[383171 rows x 9 columns]"
      ]
     },
     "execution_count": 203,
     "metadata": {},
     "output_type": "execute_result"
    }
   ],
   "source": [
    "## keep only the above columns\n",
    "mylist = ['CAMIS', 'ZIPCODE', 'INSPECTION DATE', 'ACTION', 'VIOLATION DESCRIPTION', 'SCORE', 'GRADE', 'Latitude', 'Longitude']\n",
    "data = data[['CAMIS', 'ZIPCODE', 'INSPECTION DATE', 'ACTION', 'VIOLATION DESCRIPTION', 'SCORE', 'GRADE', 'Latitude', 'Longitude']]\n",
    "data"
   ]
  },
  {
   "cell_type": "code",
   "execution_count": 204,
   "metadata": {},
   "outputs": [
    {
     "data": {
      "text/plain": [
       "(383171, 9)"
      ]
     },
     "execution_count": 204,
     "metadata": {},
     "output_type": "execute_result"
    }
   ],
   "source": [
    "data.shape"
   ]
  },
  {
   "cell_type": "markdown",
   "metadata": {},
   "source": [
    "### Keep data only for 2019"
   ]
  },
  {
   "cell_type": "code",
   "execution_count": 205,
   "metadata": {
    "scrolled": false
   },
   "outputs": [
    {
     "data": {
      "text/html": [
       "<div>\n",
       "<style scoped>\n",
       "    .dataframe tbody tr th:only-of-type {\n",
       "        vertical-align: middle;\n",
       "    }\n",
       "\n",
       "    .dataframe tbody tr th {\n",
       "        vertical-align: top;\n",
       "    }\n",
       "\n",
       "    .dataframe thead th {\n",
       "        text-align: right;\n",
       "    }\n",
       "</style>\n",
       "<table border=\"1\" class=\"dataframe\">\n",
       "  <thead>\n",
       "    <tr style=\"text-align: right;\">\n",
       "      <th></th>\n",
       "      <th>CAMIS</th>\n",
       "      <th>ZIPCODE</th>\n",
       "      <th>INSPECTION DATE</th>\n",
       "      <th>ACTION</th>\n",
       "      <th>VIOLATION DESCRIPTION</th>\n",
       "      <th>SCORE</th>\n",
       "      <th>GRADE</th>\n",
       "      <th>Latitude</th>\n",
       "      <th>Longitude</th>\n",
       "      <th>Year</th>\n",
       "    </tr>\n",
       "  </thead>\n",
       "  <tbody>\n",
       "    <tr>\n",
       "      <th>0</th>\n",
       "      <td>50100205</td>\n",
       "      <td>11354.0</td>\n",
       "      <td>2019-11-14</td>\n",
       "      <td>Violations were cited in the following area(s).</td>\n",
       "      <td>Pesticide use not in accordance with label or ...</td>\n",
       "      <td>2.0</td>\n",
       "      <td>NaN</td>\n",
       "      <td>40.760066</td>\n",
       "      <td>-73.832570</td>\n",
       "      <td>2019</td>\n",
       "    </tr>\n",
       "    <tr>\n",
       "      <th>10</th>\n",
       "      <td>50062800</td>\n",
       "      <td>10029.0</td>\n",
       "      <td>2019-09-17</td>\n",
       "      <td>Violations were cited in the following area(s).</td>\n",
       "      <td>Food Protection Certificate not held by superv...</td>\n",
       "      <td>29.0</td>\n",
       "      <td>NaN</td>\n",
       "      <td>40.786669</td>\n",
       "      <td>-73.950325</td>\n",
       "      <td>2019</td>\n",
       "    </tr>\n",
       "    <tr>\n",
       "      <th>12</th>\n",
       "      <td>41014435</td>\n",
       "      <td>10009.0</td>\n",
       "      <td>2019-04-02</td>\n",
       "      <td>Establishment Closed by DOHMH. Violations were...</td>\n",
       "      <td>Food not protected from potential source of co...</td>\n",
       "      <td>71.0</td>\n",
       "      <td>NaN</td>\n",
       "      <td>40.721471</td>\n",
       "      <td>-73.980154</td>\n",
       "      <td>2019</td>\n",
       "    </tr>\n",
       "    <tr>\n",
       "      <th>14</th>\n",
       "      <td>41227024</td>\n",
       "      <td>11374.0</td>\n",
       "      <td>2019-11-19</td>\n",
       "      <td>Violations were cited in the following area(s).</td>\n",
       "      <td>Non-food contact surface improperly constructe...</td>\n",
       "      <td>13.0</td>\n",
       "      <td>A</td>\n",
       "      <td>40.727510</td>\n",
       "      <td>-73.864020</td>\n",
       "      <td>2019</td>\n",
       "    </tr>\n",
       "    <tr>\n",
       "      <th>15</th>\n",
       "      <td>41227024</td>\n",
       "      <td>11374.0</td>\n",
       "      <td>2019-11-19</td>\n",
       "      <td>Violations were cited in the following area(s).</td>\n",
       "      <td>Non-food contact surface improperly constructe...</td>\n",
       "      <td>13.0</td>\n",
       "      <td>A</td>\n",
       "      <td>40.727510</td>\n",
       "      <td>-73.864020</td>\n",
       "      <td>2019</td>\n",
       "    </tr>\n",
       "    <tr>\n",
       "      <th>...</th>\n",
       "      <td>...</td>\n",
       "      <td>...</td>\n",
       "      <td>...</td>\n",
       "      <td>...</td>\n",
       "      <td>...</td>\n",
       "      <td>...</td>\n",
       "      <td>...</td>\n",
       "      <td>...</td>\n",
       "      <td>...</td>\n",
       "      <td>...</td>\n",
       "    </tr>\n",
       "    <tr>\n",
       "      <th>383160</th>\n",
       "      <td>50071749</td>\n",
       "      <td>11354.0</td>\n",
       "      <td>2019-02-13</td>\n",
       "      <td>Establishment Closed by DOHMH. Violations were...</td>\n",
       "      <td>Food from unapproved or unknown source or home...</td>\n",
       "      <td>52.0</td>\n",
       "      <td>NaN</td>\n",
       "      <td>40.763531</td>\n",
       "      <td>-73.829688</td>\n",
       "      <td>2019</td>\n",
       "    </tr>\n",
       "    <tr>\n",
       "      <th>383162</th>\n",
       "      <td>50066476</td>\n",
       "      <td>11372.0</td>\n",
       "      <td>2019-06-27</td>\n",
       "      <td>Violations were cited in the following area(s).</td>\n",
       "      <td>Hot food item not held at or above 140º F.</td>\n",
       "      <td>26.0</td>\n",
       "      <td>B</td>\n",
       "      <td>40.747173</td>\n",
       "      <td>-73.891484</td>\n",
       "      <td>2019</td>\n",
       "    </tr>\n",
       "    <tr>\n",
       "      <th>383163</th>\n",
       "      <td>41194745</td>\n",
       "      <td>NaN</td>\n",
       "      <td>2019-01-29</td>\n",
       "      <td>Violations were cited in the following area(s).</td>\n",
       "      <td>Sanitized equipment or utensil, including in-u...</td>\n",
       "      <td>12.0</td>\n",
       "      <td>A</td>\n",
       "      <td>0.000000</td>\n",
       "      <td>0.000000</td>\n",
       "      <td>2019</td>\n",
       "    </tr>\n",
       "    <tr>\n",
       "      <th>383164</th>\n",
       "      <td>50071464</td>\n",
       "      <td>11373.0</td>\n",
       "      <td>2019-10-31</td>\n",
       "      <td>Violations were cited in the following area(s).</td>\n",
       "      <td>Non-food contact surface improperly constructe...</td>\n",
       "      <td>21.0</td>\n",
       "      <td>NaN</td>\n",
       "      <td>40.742469</td>\n",
       "      <td>-73.873069</td>\n",
       "      <td>2019</td>\n",
       "    </tr>\n",
       "    <tr>\n",
       "      <th>383169</th>\n",
       "      <td>40369017</td>\n",
       "      <td>10017.0</td>\n",
       "      <td>2019-09-10</td>\n",
       "      <td>Violations were cited in the following area(s).</td>\n",
       "      <td>Cold food item held above 41º F (smoked fish a...</td>\n",
       "      <td>31.0</td>\n",
       "      <td>NaN</td>\n",
       "      <td>40.751554</td>\n",
       "      <td>-73.970927</td>\n",
       "      <td>2019</td>\n",
       "    </tr>\n",
       "  </tbody>\n",
       "</table>\n",
       "<p>145583 rows × 10 columns</p>\n",
       "</div>"
      ],
      "text/plain": [
       "           CAMIS  ZIPCODE INSPECTION DATE  \\\n",
       "0       50100205  11354.0      2019-11-14   \n",
       "10      50062800  10029.0      2019-09-17   \n",
       "12      41014435  10009.0      2019-04-02   \n",
       "14      41227024  11374.0      2019-11-19   \n",
       "15      41227024  11374.0      2019-11-19   \n",
       "...          ...      ...             ...   \n",
       "383160  50071749  11354.0      2019-02-13   \n",
       "383162  50066476  11372.0      2019-06-27   \n",
       "383163  41194745      NaN      2019-01-29   \n",
       "383164  50071464  11373.0      2019-10-31   \n",
       "383169  40369017  10017.0      2019-09-10   \n",
       "\n",
       "                                                   ACTION  \\\n",
       "0         Violations were cited in the following area(s).   \n",
       "10        Violations were cited in the following area(s).   \n",
       "12      Establishment Closed by DOHMH. Violations were...   \n",
       "14        Violations were cited in the following area(s).   \n",
       "15        Violations were cited in the following area(s).   \n",
       "...                                                   ...   \n",
       "383160  Establishment Closed by DOHMH. Violations were...   \n",
       "383162    Violations were cited in the following area(s).   \n",
       "383163    Violations were cited in the following area(s).   \n",
       "383164    Violations were cited in the following area(s).   \n",
       "383169    Violations were cited in the following area(s).   \n",
       "\n",
       "                                    VIOLATION DESCRIPTION  SCORE GRADE  \\\n",
       "0       Pesticide use not in accordance with label or ...    2.0   NaN   \n",
       "10      Food Protection Certificate not held by superv...   29.0   NaN   \n",
       "12      Food not protected from potential source of co...   71.0   NaN   \n",
       "14      Non-food contact surface improperly constructe...   13.0     A   \n",
       "15      Non-food contact surface improperly constructe...   13.0     A   \n",
       "...                                                   ...    ...   ...   \n",
       "383160  Food from unapproved or unknown source or home...   52.0   NaN   \n",
       "383162         Hot food item not held at or above 140º F.   26.0     B   \n",
       "383163  Sanitized equipment or utensil, including in-u...   12.0     A   \n",
       "383164  Non-food contact surface improperly constructe...   21.0   NaN   \n",
       "383169  Cold food item held above 41º F (smoked fish a...   31.0   NaN   \n",
       "\n",
       "         Latitude  Longitude  Year  \n",
       "0       40.760066 -73.832570  2019  \n",
       "10      40.786669 -73.950325  2019  \n",
       "12      40.721471 -73.980154  2019  \n",
       "14      40.727510 -73.864020  2019  \n",
       "15      40.727510 -73.864020  2019  \n",
       "...           ...        ...   ...  \n",
       "383160  40.763531 -73.829688  2019  \n",
       "383162  40.747173 -73.891484  2019  \n",
       "383163   0.000000   0.000000  2019  \n",
       "383164  40.742469 -73.873069  2019  \n",
       "383169  40.751554 -73.970927  2019  \n",
       "\n",
       "[145583 rows x 10 columns]"
      ]
     },
     "execution_count": 205,
     "metadata": {},
     "output_type": "execute_result"
    }
   ],
   "source": [
    "data['INSPECTION DATE'] = pd.to_datetime(data['INSPECTION DATE'])\n",
    "data['Year'] = data['INSPECTION DATE'].dt.year\n",
    "data2019 = data.loc[data['Year'] == 2019]\n",
    "data2019"
   ]
  },
  {
   "cell_type": "code",
   "execution_count": 206,
   "metadata": {},
   "outputs": [
    {
     "data": {
      "text/plain": [
       "(145583, 10)"
      ]
     },
     "execution_count": 206,
     "metadata": {},
     "output_type": "execute_result"
    }
   ],
   "source": [
    "data2019.shape"
   ]
  },
  {
   "cell_type": "markdown",
   "metadata": {},
   "source": [
    "### Remove rows where the 'ACTION' was restaurant closure: 'Establishment Closed by DOHMH.  Violations were cited in the following area(s) and those requiring immediate action were addressed.' and 'Establishment re-closed by DOHMH'"
   ]
  },
  {
   "cell_type": "code",
   "execution_count": 207,
   "metadata": {},
   "outputs": [
    {
     "data": {
      "text/plain": [
       "(5890, 10)"
      ]
     },
     "execution_count": 207,
     "metadata": {},
     "output_type": "execute_result"
    }
   ],
   "source": [
    "data1 = data2019.loc[data2019['ACTION'].isin(['Establishment Closed by DOHMH. Violations were cited in the following area(s) and those requiring immediate action were addressed.'])]\n",
    "data1.shape"
   ]
  },
  {
   "cell_type": "code",
   "execution_count": 208,
   "metadata": {},
   "outputs": [
    {
     "data": {
      "text/plain": [
       "(0, 10)"
      ]
     },
     "execution_count": 208,
     "metadata": {},
     "output_type": "execute_result"
    }
   ],
   "source": [
    "data2 = data2019.loc[data2019['ACTION'].isin(['Establishment re-closed by DOHMH'])]\n",
    "data2.shape \n",
    "# There is no rows for 'Establishment re-closed by DOHMH'."
   ]
  },
  {
   "cell_type": "code",
   "execution_count": 209,
   "metadata": {},
   "outputs": [
    {
     "data": {
      "text/plain": [
       "(139693, 10)"
      ]
     },
     "execution_count": 209,
     "metadata": {},
     "output_type": "execute_result"
    }
   ],
   "source": [
    "df = data2019.loc[~data2019['ACTION'].isin(['Establishment Closed by DOHMH. Violations were cited in the following area(s) and those requiring immediate action were addressed.'])]\n",
    "df.shape"
   ]
  },
  {
   "cell_type": "code",
   "execution_count": 210,
   "metadata": {},
   "outputs": [
    {
     "name": "stdout",
     "output_type": "stream",
     "text": [
      "5890\n"
     ]
    }
   ],
   "source": [
    "print(data2019.shape[0]-df.shape[0])"
   ]
  },
  {
   "cell_type": "markdown",
   "metadata": {},
   "source": [
    "### You only need certain type of violations for further analysis. Keep only the rows where 'VIOLATION DESCRIPTION' was one of the below categories"
   ]
  },
  {
   "cell_type": "code",
   "execution_count": 211,
   "metadata": {},
   "outputs": [
    {
     "data": {
      "text/html": [
       "<div>\n",
       "<style scoped>\n",
       "    .dataframe tbody tr th:only-of-type {\n",
       "        vertical-align: middle;\n",
       "    }\n",
       "\n",
       "    .dataframe tbody tr th {\n",
       "        vertical-align: top;\n",
       "    }\n",
       "\n",
       "    .dataframe thead th {\n",
       "        text-align: right;\n",
       "    }\n",
       "</style>\n",
       "<table border=\"1\" class=\"dataframe\">\n",
       "  <thead>\n",
       "    <tr style=\"text-align: right;\">\n",
       "      <th></th>\n",
       "      <th>VIOLATION DESCRIPTION</th>\n",
       "      <th>count</th>\n",
       "    </tr>\n",
       "  </thead>\n",
       "  <tbody>\n",
       "    <tr>\n",
       "      <th>0</th>\n",
       "      <td>Facility not vermin proof. Harborage or condit...</td>\n",
       "      <td>41352</td>\n",
       "    </tr>\n",
       "    <tr>\n",
       "      <th>1</th>\n",
       "      <td>Evidence of mice or live mice present in facil...</td>\n",
       "      <td>27816</td>\n",
       "    </tr>\n",
       "    <tr>\n",
       "      <th>2</th>\n",
       "      <td>Food contact surface not properly washed, rins...</td>\n",
       "      <td>25889</td>\n",
       "    </tr>\n",
       "    <tr>\n",
       "      <th>3</th>\n",
       "      <td>Food not protected from potential source of co...</td>\n",
       "      <td>25336</td>\n",
       "    </tr>\n",
       "    <tr>\n",
       "      <th>4</th>\n",
       "      <td>Cold food item held above 41Âº F (smoked fish ...</td>\n",
       "      <td>22834</td>\n",
       "    </tr>\n",
       "  </tbody>\n",
       "</table>\n",
       "</div>"
      ],
      "text/plain": [
       "                               VIOLATION DESCRIPTION  count\n",
       "0  Facility not vermin proof. Harborage or condit...  41352\n",
       "1  Evidence of mice or live mice present in facil...  27816\n",
       "2  Food contact surface not properly washed, rins...  25889\n",
       "3  Food not protected from potential source of co...  25336\n",
       "4  Cold food item held above 41Âº F (smoked fish ...  22834"
      ]
     },
     "execution_count": 211,
     "metadata": {},
     "output_type": "execute_result"
    }
   ],
   "source": [
    "violCat = pd.read_csv('RestViol_types.csv')\n",
    "violCat.head()"
   ]
  },
  {
   "cell_type": "code",
   "execution_count": 212,
   "metadata": {},
   "outputs": [
    {
     "data": {
      "text/plain": [
       "(62738, 10)"
      ]
     },
     "execution_count": 212,
     "metadata": {},
     "output_type": "execute_result"
    }
   ],
   "source": [
    "# keep rows just for above categories\n",
    "\n",
    "#data = data[data['VIOLATION DESCRIPTION'].isin(violCat['VIOLATION DESCRIPTION'])]\n",
    "#data.shape\n",
    "df = df[df['VIOLATION DESCRIPTION'].isin(violCat['VIOLATION DESCRIPTION'])]\n",
    "df.shape"
   ]
  },
  {
   "cell_type": "markdown",
   "metadata": {},
   "source": [
    "### Filter out GRADES that are 'P', 'N' and 'Z'\n",
    "\n",
    "Do not remove the NaN values from 'GRADE' yet"
   ]
  },
  {
   "cell_type": "code",
   "execution_count": 213,
   "metadata": {},
   "outputs": [
    {
     "data": {
      "text/plain": [
       "array([nan, 'C', 'B', 'N', 'A', 'P', 'Z', 'G'], dtype=object)"
      ]
     },
     "execution_count": 213,
     "metadata": {},
     "output_type": "execute_result"
    }
   ],
   "source": [
    "data.GRADE.unique()"
   ]
  },
  {
   "cell_type": "code",
   "execution_count": 214,
   "metadata": {},
   "outputs": [
    {
     "data": {
      "text/plain": [
       "(751, 10)"
      ]
     },
     "execution_count": 214,
     "metadata": {},
     "output_type": "execute_result"
    }
   ],
   "source": [
    "ldata3 = df.loc[df['GRADE'].isin(['P','N','Z'])]\n",
    "data3.shape"
   ]
  },
  {
   "cell_type": "code",
   "execution_count": 215,
   "metadata": {},
   "outputs": [
    {
     "data": {
      "text/plain": [
       "(61987, 10)"
      ]
     },
     "execution_count": 215,
     "metadata": {},
     "output_type": "execute_result"
    }
   ],
   "source": [
    "df1 = df.loc[~df['GRADE'].isin(['P','N','Z'])]\n",
    "df1.shape"
   ]
  },
  {
   "cell_type": "code",
   "execution_count": 216,
   "metadata": {},
   "outputs": [
    {
     "name": "stdout",
     "output_type": "stream",
     "text": [
      "751\n"
     ]
    }
   ],
   "source": [
    "print(df.shape[0]-df1.shape[0])"
   ]
  },
  {
   "cell_type": "markdown",
   "metadata": {},
   "source": [
    "Zip codes shapefile"
   ]
  },
  {
   "cell_type": "code",
   "execution_count": 217,
   "metadata": {},
   "outputs": [
    {
     "name": "stdout",
     "output_type": "stream",
     "text": [
      "Cloning into 'Data'...\n",
      "remote: Enumerating objects: 109, done.\u001b[K\n",
      "remote: Counting objects: 100% (3/3), done.\u001b[K\n",
      "remote: Compressing objects: 100% (3/3), done.\u001b[K\n",
      "fatal: write error: No space left on device\n",
      "fatal: index-pack failed\n"
     ]
    },
    {
     "ename": "DriverError",
     "evalue": "Data/zip_code/ZIP_CODE_040114.shp: No such file or directory",
     "output_type": "error",
     "traceback": [
      "\u001b[0;31m---------------------------------------------------------------------------\u001b[0m",
      "\u001b[0;31mCPLE_OpenFailedError\u001b[0m                      Traceback (most recent call last)",
      "\u001b[0;32mfiona/_shim.pyx\u001b[0m in \u001b[0;36mfiona._shim.gdal_open_vector\u001b[0;34m()\u001b[0m\n",
      "\u001b[0;32mfiona/_err.pyx\u001b[0m in \u001b[0;36mfiona._err.exc_wrap_pointer\u001b[0;34m()\u001b[0m\n",
      "\u001b[0;31mCPLE_OpenFailedError\u001b[0m: Data/zip_code/ZIP_CODE_040114.shp: No such file or directory",
      "\nDuring handling of the above exception, another exception occurred:\n",
      "\u001b[0;31mDriverError\u001b[0m                               Traceback (most recent call last)",
      "\u001b[0;32m/tmp/ipykernel_52/2237691645.py\u001b[0m in \u001b[0;36m<module>\u001b[0;34m\u001b[0m\n\u001b[1;32m      1\u001b[0m \u001b[0mget_ipython\u001b[0m\u001b[0;34m(\u001b[0m\u001b[0;34m)\u001b[0m\u001b[0;34m.\u001b[0m\u001b[0msystem\u001b[0m\u001b[0;34m(\u001b[0m\u001b[0;34m'git clone https://github.com/CUSP2020PUI/Data.git'\u001b[0m\u001b[0;34m)\u001b[0m\u001b[0;34m\u001b[0m\u001b[0;34m\u001b[0m\u001b[0m\n\u001b[1;32m      2\u001b[0m \u001b[0;34m\u001b[0m\u001b[0m\n\u001b[0;32m----> 3\u001b[0;31m \u001b[0mzips\u001b[0m \u001b[0;34m=\u001b[0m \u001b[0mgpd\u001b[0m\u001b[0;34m.\u001b[0m\u001b[0mread_file\u001b[0m\u001b[0;34m(\u001b[0m\u001b[0;34m\"Data/zip_code/ZIP_CODE_040114.shp\"\u001b[0m\u001b[0;34m)\u001b[0m\u001b[0;34m\u001b[0m\u001b[0;34m\u001b[0m\u001b[0m\n\u001b[0m\u001b[1;32m      4\u001b[0m \u001b[0mzips\u001b[0m \u001b[0;34m=\u001b[0m \u001b[0mzips\u001b[0m\u001b[0;34m[\u001b[0m\u001b[0;34m[\u001b[0m\u001b[0;34m'ZIPCODE'\u001b[0m\u001b[0;34m,\u001b[0m \u001b[0;34m'POPULATION'\u001b[0m\u001b[0;34m,\u001b[0m \u001b[0;34m'geometry'\u001b[0m\u001b[0;34m]\u001b[0m\u001b[0;34m]\u001b[0m\u001b[0;34m\u001b[0m\u001b[0;34m\u001b[0m\u001b[0m\n\u001b[1;32m      5\u001b[0m \u001b[0mzips\u001b[0m\u001b[0;34m[\u001b[0m\u001b[0;34m'ZIPCODE'\u001b[0m\u001b[0;34m]\u001b[0m \u001b[0;34m=\u001b[0m \u001b[0mzips\u001b[0m\u001b[0;34m[\u001b[0m\u001b[0;34m'ZIPCODE'\u001b[0m\u001b[0;34m]\u001b[0m\u001b[0;34m.\u001b[0m\u001b[0mastype\u001b[0m\u001b[0;34m(\u001b[0m\u001b[0mint\u001b[0m\u001b[0;34m)\u001b[0m\u001b[0;34m\u001b[0m\u001b[0;34m\u001b[0m\u001b[0m\n",
      "\u001b[0;32m/opt/conda/envs/PUI/lib/python3.8/site-packages/geopandas/io/file.py\u001b[0m in \u001b[0;36m_read_file\u001b[0;34m(filename, bbox, mask, rows, **kwargs)\u001b[0m\n\u001b[1;32m    158\u001b[0m \u001b[0;34m\u001b[0m\u001b[0m\n\u001b[1;32m    159\u001b[0m     \u001b[0;32mwith\u001b[0m \u001b[0mfiona_env\u001b[0m\u001b[0;34m(\u001b[0m\u001b[0;34m)\u001b[0m\u001b[0;34m:\u001b[0m\u001b[0;34m\u001b[0m\u001b[0;34m\u001b[0m\u001b[0m\n\u001b[0;32m--> 160\u001b[0;31m         \u001b[0;32mwith\u001b[0m \u001b[0mreader\u001b[0m\u001b[0;34m(\u001b[0m\u001b[0mpath_or_bytes\u001b[0m\u001b[0;34m,\u001b[0m \u001b[0;34m**\u001b[0m\u001b[0mkwargs\u001b[0m\u001b[0;34m)\u001b[0m \u001b[0;32mas\u001b[0m \u001b[0mfeatures\u001b[0m\u001b[0;34m:\u001b[0m\u001b[0;34m\u001b[0m\u001b[0;34m\u001b[0m\u001b[0m\n\u001b[0m\u001b[1;32m    161\u001b[0m \u001b[0;34m\u001b[0m\u001b[0m\n\u001b[1;32m    162\u001b[0m             \u001b[0;31m# In a future Fiona release the crs attribute of features will\u001b[0m\u001b[0;34m\u001b[0m\u001b[0;34m\u001b[0m\u001b[0;34m\u001b[0m\u001b[0m\n",
      "\u001b[0;32m/opt/conda/envs/PUI/lib/python3.8/site-packages/fiona/env.py\u001b[0m in \u001b[0;36mwrapper\u001b[0;34m(*args, **kwargs)\u001b[0m\n\u001b[1;32m    406\u001b[0m     \u001b[0;32mdef\u001b[0m \u001b[0mwrapper\u001b[0m\u001b[0;34m(\u001b[0m\u001b[0;34m*\u001b[0m\u001b[0margs\u001b[0m\u001b[0;34m,\u001b[0m \u001b[0;34m**\u001b[0m\u001b[0mkwargs\u001b[0m\u001b[0;34m)\u001b[0m\u001b[0;34m:\u001b[0m\u001b[0;34m\u001b[0m\u001b[0;34m\u001b[0m\u001b[0m\n\u001b[1;32m    407\u001b[0m         \u001b[0;32mif\u001b[0m \u001b[0mlocal\u001b[0m\u001b[0;34m.\u001b[0m\u001b[0m_env\u001b[0m\u001b[0;34m:\u001b[0m\u001b[0;34m\u001b[0m\u001b[0;34m\u001b[0m\u001b[0m\n\u001b[0;32m--> 408\u001b[0;31m             \u001b[0;32mreturn\u001b[0m \u001b[0mf\u001b[0m\u001b[0;34m(\u001b[0m\u001b[0;34m*\u001b[0m\u001b[0margs\u001b[0m\u001b[0;34m,\u001b[0m \u001b[0;34m**\u001b[0m\u001b[0mkwargs\u001b[0m\u001b[0;34m)\u001b[0m\u001b[0;34m\u001b[0m\u001b[0;34m\u001b[0m\u001b[0m\n\u001b[0m\u001b[1;32m    409\u001b[0m         \u001b[0;32melse\u001b[0m\u001b[0;34m:\u001b[0m\u001b[0;34m\u001b[0m\u001b[0;34m\u001b[0m\u001b[0m\n\u001b[1;32m    410\u001b[0m             \u001b[0;32mif\u001b[0m \u001b[0misinstance\u001b[0m\u001b[0;34m(\u001b[0m\u001b[0margs\u001b[0m\u001b[0;34m[\u001b[0m\u001b[0;36m0\u001b[0m\u001b[0;34m]\u001b[0m\u001b[0;34m,\u001b[0m \u001b[0mstr\u001b[0m\u001b[0;34m)\u001b[0m\u001b[0;34m:\u001b[0m\u001b[0;34m\u001b[0m\u001b[0;34m\u001b[0m\u001b[0m\n",
      "\u001b[0;32m/opt/conda/envs/PUI/lib/python3.8/site-packages/fiona/__init__.py\u001b[0m in \u001b[0;36mopen\u001b[0;34m(fp, mode, driver, schema, crs, encoding, layer, vfs, enabled_drivers, crs_wkt, **kwargs)\u001b[0m\n\u001b[1;32m    254\u001b[0m \u001b[0;34m\u001b[0m\u001b[0m\n\u001b[1;32m    255\u001b[0m         \u001b[0;32mif\u001b[0m \u001b[0mmode\u001b[0m \u001b[0;32min\u001b[0m \u001b[0;34m(\u001b[0m\u001b[0;34m'a'\u001b[0m\u001b[0;34m,\u001b[0m \u001b[0;34m'r'\u001b[0m\u001b[0;34m)\u001b[0m\u001b[0;34m:\u001b[0m\u001b[0;34m\u001b[0m\u001b[0;34m\u001b[0m\u001b[0m\n\u001b[0;32m--> 256\u001b[0;31m             c = Collection(path, mode, driver=driver, encoding=encoding,\n\u001b[0m\u001b[1;32m    257\u001b[0m                            layer=layer, enabled_drivers=enabled_drivers, **kwargs)\n\u001b[1;32m    258\u001b[0m         \u001b[0;32melif\u001b[0m \u001b[0mmode\u001b[0m \u001b[0;34m==\u001b[0m \u001b[0;34m'w'\u001b[0m\u001b[0;34m:\u001b[0m\u001b[0;34m\u001b[0m\u001b[0;34m\u001b[0m\u001b[0m\n",
      "\u001b[0;32m/opt/conda/envs/PUI/lib/python3.8/site-packages/fiona/collection.py\u001b[0m in \u001b[0;36m__init__\u001b[0;34m(self, path, mode, driver, schema, crs, encoding, layer, vsi, archive, enabled_drivers, crs_wkt, ignore_fields, ignore_geometry, **kwargs)\u001b[0m\n\u001b[1;32m    160\u001b[0m             \u001b[0;32mif\u001b[0m \u001b[0mself\u001b[0m\u001b[0;34m.\u001b[0m\u001b[0mmode\u001b[0m \u001b[0;34m==\u001b[0m \u001b[0;34m'r'\u001b[0m\u001b[0;34m:\u001b[0m\u001b[0;34m\u001b[0m\u001b[0;34m\u001b[0m\u001b[0m\n\u001b[1;32m    161\u001b[0m                 \u001b[0mself\u001b[0m\u001b[0;34m.\u001b[0m\u001b[0msession\u001b[0m \u001b[0;34m=\u001b[0m \u001b[0mSession\u001b[0m\u001b[0;34m(\u001b[0m\u001b[0;34m)\u001b[0m\u001b[0;34m\u001b[0m\u001b[0;34m\u001b[0m\u001b[0m\n\u001b[0;32m--> 162\u001b[0;31m                 \u001b[0mself\u001b[0m\u001b[0;34m.\u001b[0m\u001b[0msession\u001b[0m\u001b[0;34m.\u001b[0m\u001b[0mstart\u001b[0m\u001b[0;34m(\u001b[0m\u001b[0mself\u001b[0m\u001b[0;34m,\u001b[0m \u001b[0;34m**\u001b[0m\u001b[0mkwargs\u001b[0m\u001b[0;34m)\u001b[0m\u001b[0;34m\u001b[0m\u001b[0;34m\u001b[0m\u001b[0m\n\u001b[0m\u001b[1;32m    163\u001b[0m             \u001b[0;32melif\u001b[0m \u001b[0mself\u001b[0m\u001b[0;34m.\u001b[0m\u001b[0mmode\u001b[0m \u001b[0;32min\u001b[0m \u001b[0;34m(\u001b[0m\u001b[0;34m'a'\u001b[0m\u001b[0;34m,\u001b[0m \u001b[0;34m'w'\u001b[0m\u001b[0;34m)\u001b[0m\u001b[0;34m:\u001b[0m\u001b[0;34m\u001b[0m\u001b[0;34m\u001b[0m\u001b[0m\n\u001b[1;32m    164\u001b[0m                 \u001b[0mself\u001b[0m\u001b[0;34m.\u001b[0m\u001b[0msession\u001b[0m \u001b[0;34m=\u001b[0m \u001b[0mWritingSession\u001b[0m\u001b[0;34m(\u001b[0m\u001b[0;34m)\u001b[0m\u001b[0;34m\u001b[0m\u001b[0;34m\u001b[0m\u001b[0m\n",
      "\u001b[0;32mfiona/ogrext.pyx\u001b[0m in \u001b[0;36mfiona.ogrext.Session.start\u001b[0;34m()\u001b[0m\n",
      "\u001b[0;32mfiona/_shim.pyx\u001b[0m in \u001b[0;36mfiona._shim.gdal_open_vector\u001b[0;34m()\u001b[0m\n",
      "\u001b[0;31mDriverError\u001b[0m: Data/zip_code/ZIP_CODE_040114.shp: No such file or directory"
     ]
    }
   ],
   "source": [
    "!git clone https://github.com/CUSP2020PUI/Data.git\n",
    "\n",
    "zips = gpd.read_file(\"Data/zip_code/ZIP_CODE_040114.shp\")\n",
    "zips = zips[['ZIPCODE', 'POPULATION', 'geometry']]\n",
    "zips['ZIPCODE'] = zips['ZIPCODE'].astype(int)\n",
    "zips.head()"
   ]
  },
  {
   "cell_type": "code",
   "execution_count": 218,
   "metadata": {},
   "outputs": [
    {
     "data": {
      "text/html": [
       "<div>\n",
       "<style scoped>\n",
       "    .dataframe tbody tr th:only-of-type {\n",
       "        vertical-align: middle;\n",
       "    }\n",
       "\n",
       "    .dataframe tbody tr th {\n",
       "        vertical-align: top;\n",
       "    }\n",
       "\n",
       "    .dataframe thead th {\n",
       "        text-align: right;\n",
       "    }\n",
       "</style>\n",
       "<table border=\"1\" class=\"dataframe\">\n",
       "  <thead>\n",
       "    <tr style=\"text-align: right;\">\n",
       "      <th></th>\n",
       "      <th>ZIPCODE</th>\n",
       "      <th>POPULATION</th>\n",
       "      <th>geometry</th>\n",
       "    </tr>\n",
       "  </thead>\n",
       "  <tbody>\n",
       "    <tr>\n",
       "      <th>0</th>\n",
       "      <td>11436</td>\n",
       "      <td>18681.0</td>\n",
       "      <td>POLYGON ((1038098.252 188138.380, 1038141.936 ...</td>\n",
       "    </tr>\n",
       "    <tr>\n",
       "      <th>1</th>\n",
       "      <td>11213</td>\n",
       "      <td>62426.0</td>\n",
       "      <td>POLYGON ((1001613.713 186926.440, 1002314.243 ...</td>\n",
       "    </tr>\n",
       "    <tr>\n",
       "      <th>2</th>\n",
       "      <td>11212</td>\n",
       "      <td>83866.0</td>\n",
       "      <td>POLYGON ((1011174.276 183696.338, 1011373.584 ...</td>\n",
       "    </tr>\n",
       "    <tr>\n",
       "      <th>3</th>\n",
       "      <td>11225</td>\n",
       "      <td>56527.0</td>\n",
       "      <td>POLYGON ((995908.365 183617.613, 996522.848 18...</td>\n",
       "    </tr>\n",
       "    <tr>\n",
       "      <th>4</th>\n",
       "      <td>11218</td>\n",
       "      <td>72280.0</td>\n",
       "      <td>POLYGON ((991997.113 176307.496, 992042.798 17...</td>\n",
       "    </tr>\n",
       "  </tbody>\n",
       "</table>\n",
       "</div>"
      ],
      "text/plain": [
       "   ZIPCODE  POPULATION                                           geometry\n",
       "0    11436     18681.0  POLYGON ((1038098.252 188138.380, 1038141.936 ...\n",
       "1    11213     62426.0  POLYGON ((1001613.713 186926.440, 1002314.243 ...\n",
       "2    11212     83866.0  POLYGON ((1011174.276 183696.338, 1011373.584 ...\n",
       "3    11225     56527.0  POLYGON ((995908.365 183617.613, 996522.848 18...\n",
       "4    11218     72280.0  POLYGON ((991997.113 176307.496, 992042.798 17..."
      ]
     },
     "execution_count": 218,
     "metadata": {},
     "output_type": "execute_result"
    }
   ],
   "source": [
    "# or use this\n",
    "urllib.request.urlretrieve (\"https://data.cityofnewyork.us/download/i8iw-xf4u/application%2Fzip\", \n",
    "                            \"ZIPS.zip\")\n",
    "with zipfile.ZipFile('ZIPS.zip', 'r') as zip_ref:\n",
    "    zip_ref.extractall('ZIPS/')\n",
    "    \n",
    "zips = gpd.read_file(\"ZIPS/ZIP_CODE_040114.shp\")\n",
    "zips = zips[['ZIPCODE', 'POPULATION', 'geometry']]\n",
    "zips['ZIPCODE'] = zips['ZIPCODE'].astype(int)\n",
    "zips.head()"
   ]
  },
  {
   "cell_type": "markdown",
   "metadata": {},
   "source": [
    "### Merge the violations data with zip code shapefile on column 'ZIPCODE'"
   ]
  },
  {
   "cell_type": "code",
   "execution_count": 219,
   "metadata": {},
   "outputs": [
    {
     "data": {
      "text/html": [
       "<div>\n",
       "<style scoped>\n",
       "    .dataframe tbody tr th:only-of-type {\n",
       "        vertical-align: middle;\n",
       "    }\n",
       "\n",
       "    .dataframe tbody tr th {\n",
       "        vertical-align: top;\n",
       "    }\n",
       "\n",
       "    .dataframe thead th {\n",
       "        text-align: right;\n",
       "    }\n",
       "</style>\n",
       "<table border=\"1\" class=\"dataframe\">\n",
       "  <thead>\n",
       "    <tr style=\"text-align: right;\">\n",
       "      <th></th>\n",
       "      <th>CAMIS</th>\n",
       "      <th>ZIPCODE</th>\n",
       "      <th>INSPECTION DATE</th>\n",
       "      <th>ACTION</th>\n",
       "      <th>VIOLATION DESCRIPTION</th>\n",
       "      <th>SCORE</th>\n",
       "      <th>GRADE</th>\n",
       "      <th>Latitude</th>\n",
       "      <th>Longitude</th>\n",
       "      <th>Year</th>\n",
       "    </tr>\n",
       "  </thead>\n",
       "  <tbody>\n",
       "    <tr>\n",
       "      <th>24</th>\n",
       "      <td>50093646</td>\n",
       "      <td>11366.0</td>\n",
       "      <td>2019-08-07</td>\n",
       "      <td>Violations were cited in the following area(s).</td>\n",
       "      <td>Proper sanitization not provided for utensil w...</td>\n",
       "      <td>11.0</td>\n",
       "      <td>A</td>\n",
       "      <td>40.729259</td>\n",
       "      <td>-73.780988</td>\n",
       "      <td>2019</td>\n",
       "    </tr>\n",
       "    <tr>\n",
       "      <th>28</th>\n",
       "      <td>41527419</td>\n",
       "      <td>11426.0</td>\n",
       "      <td>2019-07-29</td>\n",
       "      <td>Violations were cited in the following area(s).</td>\n",
       "      <td>Facility not vermin proof. Harborage or condit...</td>\n",
       "      <td>33.0</td>\n",
       "      <td>NaN</td>\n",
       "      <td>40.735411</td>\n",
       "      <td>-73.717189</td>\n",
       "      <td>2019</td>\n",
       "    </tr>\n",
       "    <tr>\n",
       "      <th>29</th>\n",
       "      <td>50057988</td>\n",
       "      <td>10013.0</td>\n",
       "      <td>2019-01-15</td>\n",
       "      <td>Violations were cited in the following area(s).</td>\n",
       "      <td>Proper sanitization not provided for utensil w...</td>\n",
       "      <td>9.0</td>\n",
       "      <td>A</td>\n",
       "      <td>40.714309</td>\n",
       "      <td>-73.997929</td>\n",
       "      <td>2019</td>\n",
       "    </tr>\n",
       "    <tr>\n",
       "      <th>39</th>\n",
       "      <td>41617404</td>\n",
       "      <td>10467.0</td>\n",
       "      <td>2019-04-16</td>\n",
       "      <td>Violations were cited in the following area(s).</td>\n",
       "      <td>Food worker does not wash hands thoroughly aft...</td>\n",
       "      <td>20.0</td>\n",
       "      <td>NaN</td>\n",
       "      <td>40.863596</td>\n",
       "      <td>-73.864999</td>\n",
       "      <td>2019</td>\n",
       "    </tr>\n",
       "    <tr>\n",
       "      <th>54</th>\n",
       "      <td>50066837</td>\n",
       "      <td>11205.0</td>\n",
       "      <td>2019-06-29</td>\n",
       "      <td>Violations were cited in the following area(s).</td>\n",
       "      <td>Facility not vermin proof. Harborage or condit...</td>\n",
       "      <td>30.0</td>\n",
       "      <td>NaN</td>\n",
       "      <td>40.691625</td>\n",
       "      <td>-73.971123</td>\n",
       "      <td>2019</td>\n",
       "    </tr>\n",
       "  </tbody>\n",
       "</table>\n",
       "</div>"
      ],
      "text/plain": [
       "       CAMIS  ZIPCODE INSPECTION DATE  \\\n",
       "24  50093646  11366.0      2019-08-07   \n",
       "28  41527419  11426.0      2019-07-29   \n",
       "29  50057988  10013.0      2019-01-15   \n",
       "39  41617404  10467.0      2019-04-16   \n",
       "54  50066837  11205.0      2019-06-29   \n",
       "\n",
       "                                             ACTION  \\\n",
       "24  Violations were cited in the following area(s).   \n",
       "28  Violations were cited in the following area(s).   \n",
       "29  Violations were cited in the following area(s).   \n",
       "39  Violations were cited in the following area(s).   \n",
       "54  Violations were cited in the following area(s).   \n",
       "\n",
       "                                VIOLATION DESCRIPTION  SCORE GRADE   Latitude  \\\n",
       "24  Proper sanitization not provided for utensil w...   11.0     A  40.729259   \n",
       "28  Facility not vermin proof. Harborage or condit...   33.0   NaN  40.735411   \n",
       "29  Proper sanitization not provided for utensil w...    9.0     A  40.714309   \n",
       "39  Food worker does not wash hands thoroughly aft...   20.0   NaN  40.863596   \n",
       "54  Facility not vermin proof. Harborage or condit...   30.0   NaN  40.691625   \n",
       "\n",
       "    Longitude  Year  \n",
       "24 -73.780988  2019  \n",
       "28 -73.717189  2019  \n",
       "29 -73.997929  2019  \n",
       "39 -73.864999  2019  \n",
       "54 -73.971123  2019  "
      ]
     },
     "execution_count": 219,
     "metadata": {},
     "output_type": "execute_result"
    }
   ],
   "source": [
    "df1.head()"
   ]
  },
  {
   "cell_type": "code",
   "execution_count": 220,
   "metadata": {},
   "outputs": [
    {
     "data": {
      "text/plain": [
       "CAMIS                             int64\n",
       "ZIPCODE                         float64\n",
       "INSPECTION DATE          datetime64[ns]\n",
       "ACTION                           object\n",
       "VIOLATION DESCRIPTION            object\n",
       "SCORE                           float64\n",
       "GRADE                            object\n",
       "Latitude                        float64\n",
       "Longitude                       float64\n",
       "Year                              int64\n",
       "dtype: object"
      ]
     },
     "execution_count": 220,
     "metadata": {},
     "output_type": "execute_result"
    }
   ],
   "source": [
    "df1.dtypes"
   ]
  },
  {
   "cell_type": "code",
   "execution_count": 221,
   "metadata": {},
   "outputs": [
    {
     "data": {
      "text/plain": [
       "ZIPCODE          int64\n",
       "POPULATION     float64\n",
       "geometry      geometry\n",
       "dtype: object"
      ]
     },
     "execution_count": 221,
     "metadata": {},
     "output_type": "execute_result"
    }
   ],
   "source": [
    "zips.dtypes"
   ]
  },
  {
   "cell_type": "code",
   "execution_count": 222,
   "metadata": {},
   "outputs": [
    {
     "data": {
      "text/plain": [
       "(63385, 12)"
      ]
     },
     "execution_count": 222,
     "metadata": {},
     "output_type": "execute_result"
    }
   ],
   "source": [
    "res = zips.merge(df1,on='ZIPCODE',how='left')\n",
    "res.head()\n",
    "res.shape"
   ]
  },
  {
   "cell_type": "markdown",
   "metadata": {},
   "source": [
    "### Next, you need to aggregare features by zipcode. You need to get number of violations, average score, and ratio of each grade 'A', 'B' and 'C'. The ratio for a particular grade 'A' should be calculated as number of inspections when restaurants were graded 'A' divided by total number of inspections. In the end, you should have 5 above featues for each zip code."
   ]
  },
  {
   "cell_type": "code",
   "execution_count": 248,
   "metadata": {},
   "outputs": [
    {
     "data": {
      "text/html": [
       "<div>\n",
       "<style scoped>\n",
       "    .dataframe tbody tr th:only-of-type {\n",
       "        vertical-align: middle;\n",
       "    }\n",
       "\n",
       "    .dataframe tbody tr th {\n",
       "        vertical-align: top;\n",
       "    }\n",
       "\n",
       "    .dataframe thead th {\n",
       "        text-align: right;\n",
       "    }\n",
       "</style>\n",
       "<table border=\"1\" class=\"dataframe\">\n",
       "  <thead>\n",
       "    <tr style=\"text-align: right;\">\n",
       "      <th></th>\n",
       "      <th>SCORE</th>\n",
       "      <th>violations</th>\n",
       "    </tr>\n",
       "    <tr>\n",
       "      <th>ZIPCODE</th>\n",
       "      <th></th>\n",
       "      <th></th>\n",
       "    </tr>\n",
       "  </thead>\n",
       "  <tbody>\n",
       "    <tr>\n",
       "      <th>83</th>\n",
       "      <td>NaN</td>\n",
       "      <td>0</td>\n",
       "    </tr>\n",
       "    <tr>\n",
       "      <th>10001</th>\n",
       "      <td>19.870285</td>\n",
       "      <td>1087</td>\n",
       "    </tr>\n",
       "    <tr>\n",
       "      <th>10002</th>\n",
       "      <td>21.900662</td>\n",
       "      <td>1512</td>\n",
       "    </tr>\n",
       "    <tr>\n",
       "      <th>10003</th>\n",
       "      <td>19.778047</td>\n",
       "      <td>1650</td>\n",
       "    </tr>\n",
       "    <tr>\n",
       "      <th>10004</th>\n",
       "      <td>22.167702</td>\n",
       "      <td>1292</td>\n",
       "    </tr>\n",
       "    <tr>\n",
       "      <th>...</th>\n",
       "      <td>...</td>\n",
       "      <td>...</td>\n",
       "    </tr>\n",
       "    <tr>\n",
       "      <th>11691</th>\n",
       "      <td>20.218391</td>\n",
       "      <td>87</td>\n",
       "    </tr>\n",
       "    <tr>\n",
       "      <th>11692</th>\n",
       "      <td>14.062500</td>\n",
       "      <td>16</td>\n",
       "    </tr>\n",
       "    <tr>\n",
       "      <th>11693</th>\n",
       "      <td>18.384615</td>\n",
       "      <td>260</td>\n",
       "    </tr>\n",
       "    <tr>\n",
       "      <th>11694</th>\n",
       "      <td>14.826923</td>\n",
       "      <td>52</td>\n",
       "    </tr>\n",
       "    <tr>\n",
       "      <th>11697</th>\n",
       "      <td>14.222222</td>\n",
       "      <td>9</td>\n",
       "    </tr>\n",
       "  </tbody>\n",
       "</table>\n",
       "<p>248 rows × 2 columns</p>\n",
       "</div>"
      ],
      "text/plain": [
       "             SCORE  violations\n",
       "ZIPCODE                       \n",
       "83             NaN           0\n",
       "10001    19.870285        1087\n",
       "10002    21.900662        1512\n",
       "10003    19.778047        1650\n",
       "10004    22.167702        1292\n",
       "...            ...         ...\n",
       "11691    20.218391          87\n",
       "11692    14.062500          16\n",
       "11693    18.384615         260\n",
       "11694    14.826923          52\n",
       "11697    14.222222           9\n",
       "\n",
       "[248 rows x 2 columns]"
      ]
     },
     "execution_count": 248,
     "metadata": {},
     "output_type": "execute_result"
    }
   ],
   "source": [
    "# get number of violations and average score\n",
    "viosco = res[['ZIPCODE', 'CAMIS', 'SCORE']].groupby(by='ZIPCODE').agg({'SCORE': 'mean', 'CAMIS': 'count'})\n",
    "viosco = viosco.rename(columns = {'CAMIS':'violations'})\n",
    "viosco"
   ]
  },
  {
   "cell_type": "code",
   "execution_count": 249,
   "metadata": {},
   "outputs": [],
   "source": [
    "## get each grade ratio per zip code"
   ]
  },
  {
   "cell_type": "code",
   "execution_count": 250,
   "metadata": {},
   "outputs": [
    {
     "data": {
      "text/plain": [
       "Index(['ZIPCODE', 'POPULATION', 'geometry', 'CAMIS', 'INSPECTION DATE',\n",
       "       'ACTION', 'VIOLATION DESCRIPTION', 'SCORE', 'GRADE', 'Latitude',\n",
       "       'Longitude', 'Year'],\n",
       "      dtype='object')"
      ]
     },
     "execution_count": 250,
     "metadata": {},
     "output_type": "execute_result"
    }
   ],
   "source": [
    "res.columns"
   ]
  },
  {
   "cell_type": "code",
   "execution_count": 251,
   "metadata": {},
   "outputs": [
    {
     "data": {
      "text/html": [
       "<div>\n",
       "<style scoped>\n",
       "    .dataframe tbody tr th:only-of-type {\n",
       "        vertical-align: middle;\n",
       "    }\n",
       "\n",
       "    .dataframe tbody tr th {\n",
       "        vertical-align: top;\n",
       "    }\n",
       "\n",
       "    .dataframe thead th {\n",
       "        text-align: right;\n",
       "    }\n",
       "</style>\n",
       "<table border=\"1\" class=\"dataframe\">\n",
       "  <thead>\n",
       "    <tr style=\"text-align: right;\">\n",
       "      <th></th>\n",
       "      <th>ZIPCODE</th>\n",
       "      <th>GRADE</th>\n",
       "      <th>CAMIS</th>\n",
       "    </tr>\n",
       "  </thead>\n",
       "  <tbody>\n",
       "    <tr>\n",
       "      <th>0</th>\n",
       "      <td>10001</td>\n",
       "      <td>A</td>\n",
       "      <td>473</td>\n",
       "    </tr>\n",
       "    <tr>\n",
       "      <th>1</th>\n",
       "      <td>10001</td>\n",
       "      <td>B</td>\n",
       "      <td>72</td>\n",
       "    </tr>\n",
       "    <tr>\n",
       "      <th>2</th>\n",
       "      <td>10001</td>\n",
       "      <td>C</td>\n",
       "      <td>18</td>\n",
       "    </tr>\n",
       "    <tr>\n",
       "      <th>3</th>\n",
       "      <td>10002</td>\n",
       "      <td>A</td>\n",
       "      <td>516</td>\n",
       "    </tr>\n",
       "    <tr>\n",
       "      <th>4</th>\n",
       "      <td>10002</td>\n",
       "      <td>B</td>\n",
       "      <td>144</td>\n",
       "    </tr>\n",
       "  </tbody>\n",
       "</table>\n",
       "</div>"
      ],
      "text/plain": [
       "   ZIPCODE GRADE  CAMIS\n",
       "0    10001     A    473\n",
       "1    10001     B     72\n",
       "2    10001     C     18\n",
       "3    10002     A    516\n",
       "4    10002     B    144"
      ]
     },
     "execution_count": 251,
     "metadata": {},
     "output_type": "execute_result"
    }
   ],
   "source": [
    "# Grade\n",
    "grade = res.groupby(['ZIPCODE','GRADE']).agg({'CAMIS':'count'}).reset_index()\n",
    "grade.head()"
   ]
  },
  {
   "cell_type": "code",
   "execution_count": 252,
   "metadata": {},
   "outputs": [
    {
     "data": {
      "text/html": [
       "<div>\n",
       "<style scoped>\n",
       "    .dataframe tbody tr th:only-of-type {\n",
       "        vertical-align: middle;\n",
       "    }\n",
       "\n",
       "    .dataframe tbody tr th {\n",
       "        vertical-align: top;\n",
       "    }\n",
       "\n",
       "    .dataframe thead th {\n",
       "        text-align: right;\n",
       "    }\n",
       "</style>\n",
       "<table border=\"1\" class=\"dataframe\">\n",
       "  <thead>\n",
       "    <tr style=\"text-align: right;\">\n",
       "      <th></th>\n",
       "      <th>ZIPCODE</th>\n",
       "      <th>CAMIS</th>\n",
       "    </tr>\n",
       "  </thead>\n",
       "  <tbody>\n",
       "    <tr>\n",
       "      <th>0</th>\n",
       "      <td>83</td>\n",
       "      <td>0</td>\n",
       "    </tr>\n",
       "    <tr>\n",
       "      <th>1</th>\n",
       "      <td>10001</td>\n",
       "      <td>1087</td>\n",
       "    </tr>\n",
       "    <tr>\n",
       "      <th>2</th>\n",
       "      <td>10002</td>\n",
       "      <td>1512</td>\n",
       "    </tr>\n",
       "  </tbody>\n",
       "</table>\n",
       "</div>"
      ],
      "text/plain": [
       "   ZIPCODE  CAMIS\n",
       "0       83      0\n",
       "1    10001   1087\n",
       "2    10002   1512"
      ]
     },
     "execution_count": 252,
     "metadata": {},
     "output_type": "execute_result"
    }
   ],
   "source": [
    "total = res.groupby(['ZIPCODE']).agg({'CAMIS':'count'}).reset_index()\n",
    "#total = total[1:]\n",
    "total.head(3)"
   ]
  },
  {
   "cell_type": "code",
   "execution_count": 253,
   "metadata": {},
   "outputs": [
    {
     "data": {
      "text/html": [
       "<div>\n",
       "<style scoped>\n",
       "    .dataframe tbody tr th:only-of-type {\n",
       "        vertical-align: middle;\n",
       "    }\n",
       "\n",
       "    .dataframe tbody tr th {\n",
       "        vertical-align: top;\n",
       "    }\n",
       "\n",
       "    .dataframe thead th {\n",
       "        text-align: right;\n",
       "    }\n",
       "</style>\n",
       "<table border=\"1\" class=\"dataframe\">\n",
       "  <thead>\n",
       "    <tr style=\"text-align: right;\">\n",
       "      <th></th>\n",
       "      <th>ZIPCODE</th>\n",
       "      <th>GRADE</th>\n",
       "      <th>CAMIS</th>\n",
       "    </tr>\n",
       "  </thead>\n",
       "  <tbody>\n",
       "    <tr>\n",
       "      <th>0</th>\n",
       "      <td>10001</td>\n",
       "      <td>A</td>\n",
       "      <td>473</td>\n",
       "    </tr>\n",
       "    <tr>\n",
       "      <th>3</th>\n",
       "      <td>10002</td>\n",
       "      <td>A</td>\n",
       "      <td>516</td>\n",
       "    </tr>\n",
       "    <tr>\n",
       "      <th>6</th>\n",
       "      <td>10003</td>\n",
       "      <td>A</td>\n",
       "      <td>646</td>\n",
       "    </tr>\n",
       "  </tbody>\n",
       "</table>\n",
       "</div>"
      ],
      "text/plain": [
       "   ZIPCODE GRADE  CAMIS\n",
       "0    10001     A    473\n",
       "3    10002     A    516\n",
       "6    10003     A    646"
      ]
     },
     "execution_count": 253,
     "metadata": {},
     "output_type": "execute_result"
    }
   ],
   "source": [
    "# A\n",
    "A = grade.loc[grade['GRADE'] == 'A']\n",
    "A.head(3)"
   ]
  },
  {
   "cell_type": "code",
   "execution_count": 254,
   "metadata": {},
   "outputs": [
    {
     "data": {
      "text/html": [
       "<div>\n",
       "<style scoped>\n",
       "    .dataframe tbody tr th:only-of-type {\n",
       "        vertical-align: middle;\n",
       "    }\n",
       "\n",
       "    .dataframe tbody tr th {\n",
       "        vertical-align: top;\n",
       "    }\n",
       "\n",
       "    .dataframe thead th {\n",
       "        text-align: right;\n",
       "    }\n",
       "</style>\n",
       "<table border=\"1\" class=\"dataframe\">\n",
       "  <thead>\n",
       "    <tr style=\"text-align: right;\">\n",
       "      <th></th>\n",
       "      <th>ZIPCODE</th>\n",
       "      <th>A</th>\n",
       "      <th>RATIOofA</th>\n",
       "    </tr>\n",
       "  </thead>\n",
       "  <tbody>\n",
       "    <tr>\n",
       "      <th>0</th>\n",
       "      <td>10001</td>\n",
       "      <td>A</td>\n",
       "      <td>0.435143</td>\n",
       "    </tr>\n",
       "    <tr>\n",
       "      <th>3</th>\n",
       "      <td>10002</td>\n",
       "      <td>A</td>\n",
       "      <td>0.341270</td>\n",
       "    </tr>\n",
       "    <tr>\n",
       "      <th>6</th>\n",
       "      <td>10003</td>\n",
       "      <td>A</td>\n",
       "      <td>0.391515</td>\n",
       "    </tr>\n",
       "  </tbody>\n",
       "</table>\n",
       "</div>"
      ],
      "text/plain": [
       "   ZIPCODE  A  RATIOofA\n",
       "0    10001  A  0.435143\n",
       "3    10002  A  0.341270\n",
       "6    10003  A  0.391515"
      ]
     },
     "execution_count": 254,
     "metadata": {},
     "output_type": "execute_result"
    }
   ],
   "source": [
    "A['RATIOofA'] = A.apply(lambda x: x['CAMIS'] / \n",
    "                                                 total.loc[total['ZIPCODE']==x['ZIPCODE']]['CAMIS'].values[0],axis = 1)\n",
    "\n",
    "A = A.rename(columns = {'GRADE':'A'})\n",
    "A = A.drop('CAMIS', axis = 1)\n",
    "A.head(3)"
   ]
  },
  {
   "cell_type": "code",
   "execution_count": 255,
   "metadata": {},
   "outputs": [
    {
     "data": {
      "text/html": [
       "<div>\n",
       "<style scoped>\n",
       "    .dataframe tbody tr th:only-of-type {\n",
       "        vertical-align: middle;\n",
       "    }\n",
       "\n",
       "    .dataframe tbody tr th {\n",
       "        vertical-align: top;\n",
       "    }\n",
       "\n",
       "    .dataframe thead th {\n",
       "        text-align: right;\n",
       "    }\n",
       "</style>\n",
       "<table border=\"1\" class=\"dataframe\">\n",
       "  <thead>\n",
       "    <tr style=\"text-align: right;\">\n",
       "      <th></th>\n",
       "      <th>ZIPCODE</th>\n",
       "      <th>B</th>\n",
       "      <th>RATIOofB</th>\n",
       "    </tr>\n",
       "  </thead>\n",
       "  <tbody>\n",
       "    <tr>\n",
       "      <th>1</th>\n",
       "      <td>10001</td>\n",
       "      <td>B</td>\n",
       "      <td>0.066237</td>\n",
       "    </tr>\n",
       "    <tr>\n",
       "      <th>4</th>\n",
       "      <td>10002</td>\n",
       "      <td>B</td>\n",
       "      <td>0.095238</td>\n",
       "    </tr>\n",
       "    <tr>\n",
       "      <th>7</th>\n",
       "      <td>10003</td>\n",
       "      <td>B</td>\n",
       "      <td>0.089091</td>\n",
       "    </tr>\n",
       "  </tbody>\n",
       "</table>\n",
       "</div>"
      ],
      "text/plain": [
       "   ZIPCODE  B  RATIOofB\n",
       "1    10001  B  0.066237\n",
       "4    10002  B  0.095238\n",
       "7    10003  B  0.089091"
      ]
     },
     "execution_count": 255,
     "metadata": {},
     "output_type": "execute_result"
    }
   ],
   "source": [
    "# B\n",
    "B = grade.loc[grade['GRADE'] == 'B']\n",
    "B['RATIOofB'] = B.apply(lambda x: x['CAMIS'] / \n",
    "                                                 total.loc[total['ZIPCODE']==x['ZIPCODE']]['CAMIS'].values[0],axis = 1)\n",
    "B = B.rename(columns = {'GRADE':'B'})\n",
    "B = B.drop('CAMIS', axis = 1)\n",
    "B.head(3)"
   ]
  },
  {
   "cell_type": "code",
   "execution_count": 256,
   "metadata": {},
   "outputs": [
    {
     "data": {
      "text/html": [
       "<div>\n",
       "<style scoped>\n",
       "    .dataframe tbody tr th:only-of-type {\n",
       "        vertical-align: middle;\n",
       "    }\n",
       "\n",
       "    .dataframe tbody tr th {\n",
       "        vertical-align: top;\n",
       "    }\n",
       "\n",
       "    .dataframe thead th {\n",
       "        text-align: right;\n",
       "    }\n",
       "</style>\n",
       "<table border=\"1\" class=\"dataframe\">\n",
       "  <thead>\n",
       "    <tr style=\"text-align: right;\">\n",
       "      <th></th>\n",
       "      <th>ZIPCODE</th>\n",
       "      <th>C</th>\n",
       "      <th>RATIOofC</th>\n",
       "    </tr>\n",
       "  </thead>\n",
       "  <tbody>\n",
       "    <tr>\n",
       "      <th>2</th>\n",
       "      <td>10001</td>\n",
       "      <td>C</td>\n",
       "      <td>0.016559</td>\n",
       "    </tr>\n",
       "    <tr>\n",
       "      <th>5</th>\n",
       "      <td>10002</td>\n",
       "      <td>C</td>\n",
       "      <td>0.029101</td>\n",
       "    </tr>\n",
       "    <tr>\n",
       "      <th>8</th>\n",
       "      <td>10003</td>\n",
       "      <td>C</td>\n",
       "      <td>0.024242</td>\n",
       "    </tr>\n",
       "  </tbody>\n",
       "</table>\n",
       "</div>"
      ],
      "text/plain": [
       "   ZIPCODE  C  RATIOofC\n",
       "2    10001  C  0.016559\n",
       "5    10002  C  0.029101\n",
       "8    10003  C  0.024242"
      ]
     },
     "execution_count": 256,
     "metadata": {},
     "output_type": "execute_result"
    }
   ],
   "source": [
    "# C\n",
    "C = grade.loc[grade['GRADE'] == 'C']\n",
    "C['RATIOofC'] = C.apply(lambda x: x['CAMIS'] / \n",
    "                                                 total.loc[total['ZIPCODE']==x['ZIPCODE']]['CAMIS'].values[0],axis = 1)\n",
    "C = C.rename(columns = {'GRADE':'C'})\n",
    "C = C.drop('CAMIS', axis = 1)\n",
    "C.head(3)"
   ]
  },
  {
   "cell_type": "code",
   "execution_count": 257,
   "metadata": {},
   "outputs": [
    {
     "data": {
      "text/html": [
       "<div>\n",
       "<style scoped>\n",
       "    .dataframe tbody tr th:only-of-type {\n",
       "        vertical-align: middle;\n",
       "    }\n",
       "\n",
       "    .dataframe tbody tr th {\n",
       "        vertical-align: top;\n",
       "    }\n",
       "\n",
       "    .dataframe thead th {\n",
       "        text-align: right;\n",
       "    }\n",
       "</style>\n",
       "<table border=\"1\" class=\"dataframe\">\n",
       "  <thead>\n",
       "    <tr style=\"text-align: right;\">\n",
       "      <th></th>\n",
       "      <th>ZIPCODE</th>\n",
       "      <th>SCORE</th>\n",
       "      <th>violations</th>\n",
       "      <th>A</th>\n",
       "      <th>RATIOofA</th>\n",
       "    </tr>\n",
       "  </thead>\n",
       "  <tbody>\n",
       "    <tr>\n",
       "      <th>0</th>\n",
       "      <td>83</td>\n",
       "      <td>NaN</td>\n",
       "      <td>0</td>\n",
       "      <td>NaN</td>\n",
       "      <td>NaN</td>\n",
       "    </tr>\n",
       "    <tr>\n",
       "      <th>1</th>\n",
       "      <td>10001</td>\n",
       "      <td>19.870285</td>\n",
       "      <td>1087</td>\n",
       "      <td>A</td>\n",
       "      <td>0.435143</td>\n",
       "    </tr>\n",
       "    <tr>\n",
       "      <th>2</th>\n",
       "      <td>10002</td>\n",
       "      <td>21.900662</td>\n",
       "      <td>1512</td>\n",
       "      <td>A</td>\n",
       "      <td>0.341270</td>\n",
       "    </tr>\n",
       "  </tbody>\n",
       "</table>\n",
       "</div>"
      ],
      "text/plain": [
       "   ZIPCODE      SCORE  violations    A  RATIOofA\n",
       "0       83        NaN           0  NaN       NaN\n",
       "1    10001  19.870285        1087    A  0.435143\n",
       "2    10002  21.900662        1512    A  0.341270"
      ]
     },
     "execution_count": 257,
     "metadata": {},
     "output_type": "execute_result"
    }
   ],
   "source": [
    "## merge number of violations, avg score and grade ratios \n",
    "Three = viosco.merge(A, on = 'ZIPCODE', how = 'left')\n",
    "Three.head(3)"
   ]
  },
  {
   "cell_type": "code",
   "execution_count": 258,
   "metadata": {},
   "outputs": [
    {
     "data": {
      "text/html": [
       "<div>\n",
       "<style scoped>\n",
       "    .dataframe tbody tr th:only-of-type {\n",
       "        vertical-align: middle;\n",
       "    }\n",
       "\n",
       "    .dataframe tbody tr th {\n",
       "        vertical-align: top;\n",
       "    }\n",
       "\n",
       "    .dataframe thead th {\n",
       "        text-align: right;\n",
       "    }\n",
       "</style>\n",
       "<table border=\"1\" class=\"dataframe\">\n",
       "  <thead>\n",
       "    <tr style=\"text-align: right;\">\n",
       "      <th></th>\n",
       "      <th>ZIPCODE</th>\n",
       "      <th>SCORE</th>\n",
       "      <th>violations</th>\n",
       "      <th>A</th>\n",
       "      <th>RATIOofA</th>\n",
       "      <th>B</th>\n",
       "      <th>RATIOofB</th>\n",
       "    </tr>\n",
       "  </thead>\n",
       "  <tbody>\n",
       "    <tr>\n",
       "      <th>0</th>\n",
       "      <td>83</td>\n",
       "      <td>NaN</td>\n",
       "      <td>0</td>\n",
       "      <td>NaN</td>\n",
       "      <td>NaN</td>\n",
       "      <td>NaN</td>\n",
       "      <td>NaN</td>\n",
       "    </tr>\n",
       "    <tr>\n",
       "      <th>1</th>\n",
       "      <td>10001</td>\n",
       "      <td>19.870285</td>\n",
       "      <td>1087</td>\n",
       "      <td>A</td>\n",
       "      <td>0.435143</td>\n",
       "      <td>B</td>\n",
       "      <td>0.066237</td>\n",
       "    </tr>\n",
       "    <tr>\n",
       "      <th>2</th>\n",
       "      <td>10002</td>\n",
       "      <td>21.900662</td>\n",
       "      <td>1512</td>\n",
       "      <td>A</td>\n",
       "      <td>0.341270</td>\n",
       "      <td>B</td>\n",
       "      <td>0.095238</td>\n",
       "    </tr>\n",
       "  </tbody>\n",
       "</table>\n",
       "</div>"
      ],
      "text/plain": [
       "   ZIPCODE      SCORE  violations    A  RATIOofA    B  RATIOofB\n",
       "0       83        NaN           0  NaN       NaN  NaN       NaN\n",
       "1    10001  19.870285        1087    A  0.435143    B  0.066237\n",
       "2    10002  21.900662        1512    A  0.341270    B  0.095238"
      ]
     },
     "execution_count": 258,
     "metadata": {},
     "output_type": "execute_result"
    }
   ],
   "source": [
    "four = Three.merge(B, on = 'ZIPCODE', how = 'left')\n",
    "four.head(3)"
   ]
  },
  {
   "cell_type": "code",
   "execution_count": 259,
   "metadata": {},
   "outputs": [
    {
     "data": {
      "text/html": [
       "<div>\n",
       "<style scoped>\n",
       "    .dataframe tbody tr th:only-of-type {\n",
       "        vertical-align: middle;\n",
       "    }\n",
       "\n",
       "    .dataframe tbody tr th {\n",
       "        vertical-align: top;\n",
       "    }\n",
       "\n",
       "    .dataframe thead th {\n",
       "        text-align: right;\n",
       "    }\n",
       "</style>\n",
       "<table border=\"1\" class=\"dataframe\">\n",
       "  <thead>\n",
       "    <tr style=\"text-align: right;\">\n",
       "      <th></th>\n",
       "      <th>ZIPCODE</th>\n",
       "      <th>SCORE</th>\n",
       "      <th>violations</th>\n",
       "      <th>RATIOofA</th>\n",
       "      <th>RATIOofB</th>\n",
       "      <th>RATIOofC</th>\n",
       "    </tr>\n",
       "  </thead>\n",
       "  <tbody>\n",
       "    <tr>\n",
       "      <th>0</th>\n",
       "      <td>83</td>\n",
       "      <td>NaN</td>\n",
       "      <td>0</td>\n",
       "      <td>NaN</td>\n",
       "      <td>NaN</td>\n",
       "      <td>NaN</td>\n",
       "    </tr>\n",
       "    <tr>\n",
       "      <th>1</th>\n",
       "      <td>10001</td>\n",
       "      <td>19.870285</td>\n",
       "      <td>1087</td>\n",
       "      <td>0.435143</td>\n",
       "      <td>0.066237</td>\n",
       "      <td>0.016559</td>\n",
       "    </tr>\n",
       "    <tr>\n",
       "      <th>2</th>\n",
       "      <td>10002</td>\n",
       "      <td>21.900662</td>\n",
       "      <td>1512</td>\n",
       "      <td>0.341270</td>\n",
       "      <td>0.095238</td>\n",
       "      <td>0.029101</td>\n",
       "    </tr>\n",
       "  </tbody>\n",
       "</table>\n",
       "</div>"
      ],
      "text/plain": [
       "   ZIPCODE      SCORE  violations  RATIOofA  RATIOofB  RATIOofC\n",
       "0       83        NaN           0       NaN       NaN       NaN\n",
       "1    10001  19.870285        1087  0.435143  0.066237  0.016559\n",
       "2    10002  21.900662        1512  0.341270  0.095238  0.029101"
      ]
     },
     "execution_count": 259,
     "metadata": {},
     "output_type": "execute_result"
    }
   ],
   "source": [
    "five = four.merge(C, on = 'ZIPCODE', how = 'left')\n",
    "five = five.drop(['A','B','C'], axis = 1)\n",
    "five.head(3)"
   ]
  },
  {
   "cell_type": "code",
   "execution_count": 260,
   "metadata": {},
   "outputs": [
    {
     "data": {
      "text/plain": [
       "<bound method Series.unique of 0           NaN\n",
       "1      0.066237\n",
       "2      0.095238\n",
       "3      0.089091\n",
       "4      0.046440\n",
       "         ...   \n",
       "243    0.080460\n",
       "244         NaN\n",
       "245    0.046154\n",
       "246         NaN\n",
       "247    0.333333\n",
       "Name: RATIOofB, Length: 248, dtype: float64>"
      ]
     },
     "execution_count": 260,
     "metadata": {},
     "output_type": "execute_result"
    }
   ],
   "source": [
    "five['RATIOofB'].unique"
   ]
  },
  {
   "cell_type": "markdown",
   "metadata": {},
   "source": [
    "### Read 311 data.\n",
    "\n",
    "This data containts all restaurant related complaints for 2019. 'Unique Key' is a unique identifier for each complaint"
   ]
  },
  {
   "cell_type": "code",
   "execution_count": 261,
   "metadata": {},
   "outputs": [
    {
     "data": {
      "text/html": [
       "<div>\n",
       "<style scoped>\n",
       "    .dataframe tbody tr th:only-of-type {\n",
       "        vertical-align: middle;\n",
       "    }\n",
       "\n",
       "    .dataframe tbody tr th {\n",
       "        vertical-align: top;\n",
       "    }\n",
       "\n",
       "    .dataframe thead th {\n",
       "        text-align: right;\n",
       "    }\n",
       "</style>\n",
       "<table border=\"1\" class=\"dataframe\">\n",
       "  <thead>\n",
       "    <tr style=\"text-align: right;\">\n",
       "      <th></th>\n",
       "      <th>Unique Key</th>\n",
       "      <th>Incident Zip</th>\n",
       "      <th>Complaint Type</th>\n",
       "      <th>Descriptor</th>\n",
       "    </tr>\n",
       "  </thead>\n",
       "  <tbody>\n",
       "    <tr>\n",
       "      <th>0</th>\n",
       "      <td>34057077</td>\n",
       "      <td>10020.0</td>\n",
       "      <td>Food Establishment</td>\n",
       "      <td>Dishwashing/Utensils</td>\n",
       "    </tr>\n",
       "    <tr>\n",
       "      <th>1</th>\n",
       "      <td>34057113</td>\n",
       "      <td>11104.0</td>\n",
       "      <td>Food Poisoning</td>\n",
       "      <td>1 or 2</td>\n",
       "    </tr>\n",
       "    <tr>\n",
       "      <th>2</th>\n",
       "      <td>34057299</td>\n",
       "      <td>10027.0</td>\n",
       "      <td>Food Establishment</td>\n",
       "      <td>Rodents/Insects/Garbage</td>\n",
       "    </tr>\n",
       "    <tr>\n",
       "      <th>3</th>\n",
       "      <td>34057325</td>\n",
       "      <td>10017.0</td>\n",
       "      <td>Food Establishment</td>\n",
       "      <td>Bare Hands in Contact w/ Food</td>\n",
       "    </tr>\n",
       "    <tr>\n",
       "      <th>4</th>\n",
       "      <td>34057330</td>\n",
       "      <td>11385.0</td>\n",
       "      <td>Food Establishment</td>\n",
       "      <td>Bare Hands in Contact w/ Food</td>\n",
       "    </tr>\n",
       "  </tbody>\n",
       "</table>\n",
       "</div>"
      ],
      "text/plain": [
       "   Unique Key  Incident Zip      Complaint Type                     Descriptor\n",
       "0    34057077       10020.0  Food Establishment           Dishwashing/Utensils\n",
       "1    34057113       11104.0      Food Poisoning                         1 or 2\n",
       "2    34057299       10027.0  Food Establishment        Rodents/Insects/Garbage\n",
       "3    34057325       10017.0  Food Establishment  Bare Hands in Contact w/ Food\n",
       "4    34057330       11385.0  Food Establishment  Bare Hands in Contact w/ Food"
      ]
     },
     "execution_count": 261,
     "metadata": {},
     "output_type": "execute_result"
    }
   ],
   "source": [
    "data311 = pd.read_csv('311_foodComplaints.csv')\n",
    "data311.head()"
   ]
  },
  {
   "cell_type": "code",
   "execution_count": 262,
   "metadata": {},
   "outputs": [
    {
     "data": {
      "text/plain": [
       "(22388, 4)"
      ]
     },
     "execution_count": 262,
     "metadata": {},
     "output_type": "execute_result"
    }
   ],
   "source": [
    "data311.shape"
   ]
  },
  {
   "cell_type": "markdown",
   "metadata": {},
   "source": [
    "### Group these 311 complaints by zip code"
   ]
  },
  {
   "cell_type": "code",
   "execution_count": 263,
   "metadata": {},
   "outputs": [
    {
     "data": {
      "text/html": [
       "<div>\n",
       "<style scoped>\n",
       "    .dataframe tbody tr th:only-of-type {\n",
       "        vertical-align: middle;\n",
       "    }\n",
       "\n",
       "    .dataframe tbody tr th {\n",
       "        vertical-align: top;\n",
       "    }\n",
       "\n",
       "    .dataframe thead th {\n",
       "        text-align: right;\n",
       "    }\n",
       "</style>\n",
       "<table border=\"1\" class=\"dataframe\">\n",
       "  <thead>\n",
       "    <tr style=\"text-align: right;\">\n",
       "      <th></th>\n",
       "      <th>Incident Zip</th>\n",
       "      <th>Complaints</th>\n",
       "    </tr>\n",
       "  </thead>\n",
       "  <tbody>\n",
       "    <tr>\n",
       "      <th>2</th>\n",
       "      <td>10000.0</td>\n",
       "      <td>2</td>\n",
       "    </tr>\n",
       "    <tr>\n",
       "      <th>3</th>\n",
       "      <td>10001.0</td>\n",
       "      <td>331</td>\n",
       "    </tr>\n",
       "    <tr>\n",
       "      <th>4</th>\n",
       "      <td>10002.0</td>\n",
       "      <td>348</td>\n",
       "    </tr>\n",
       "  </tbody>\n",
       "</table>\n",
       "</div>"
      ],
      "text/plain": [
       "   Incident Zip  Complaints\n",
       "2       10000.0           2\n",
       "3       10001.0         331\n",
       "4       10002.0         348"
      ]
     },
     "execution_count": 263,
     "metadata": {},
     "output_type": "execute_result"
    }
   ],
   "source": [
    "zip311 = data311.groupby(['Incident Zip']).agg({'Unique Key':'count'}).reset_index()\n",
    "zip311 = zip311.rename(columns={'Unique Key':'Complaints'})\n",
    "zip311 = zip311[2:]\n",
    "zip311.head(3)"
   ]
  },
  {
   "cell_type": "code",
   "execution_count": 264,
   "metadata": {},
   "outputs": [
    {
     "data": {
      "text/html": [
       "<div>\n",
       "<style scoped>\n",
       "    .dataframe tbody tr th:only-of-type {\n",
       "        vertical-align: middle;\n",
       "    }\n",
       "\n",
       "    .dataframe tbody tr th {\n",
       "        vertical-align: top;\n",
       "    }\n",
       "\n",
       "    .dataframe thead th {\n",
       "        text-align: right;\n",
       "    }\n",
       "</style>\n",
       "<table border=\"1\" class=\"dataframe\">\n",
       "  <thead>\n",
       "    <tr style=\"text-align: right;\">\n",
       "      <th></th>\n",
       "      <th>Complaints</th>\n",
       "      <th>ZIPCODE</th>\n",
       "      <th>POPULATION</th>\n",
       "      <th>geometry</th>\n",
       "    </tr>\n",
       "  </thead>\n",
       "  <tbody>\n",
       "    <tr>\n",
       "      <th>0</th>\n",
       "      <td>331</td>\n",
       "      <td>10001</td>\n",
       "      <td>22413.0</td>\n",
       "      <td>POLYGON ((981958.647 213464.453, 981980.328 21...</td>\n",
       "    </tr>\n",
       "    <tr>\n",
       "      <th>1</th>\n",
       "      <td>348</td>\n",
       "      <td>10002</td>\n",
       "      <td>81305.0</td>\n",
       "      <td>POLYGON ((991339.870 207576.784, 991330.490 20...</td>\n",
       "    </tr>\n",
       "    <tr>\n",
       "      <th>2</th>\n",
       "      <td>505</td>\n",
       "      <td>10003</td>\n",
       "      <td>55878.0</td>\n",
       "      <td>POLYGON ((989830.469 207048.126, 989716.354 20...</td>\n",
       "    </tr>\n",
       "  </tbody>\n",
       "</table>\n",
       "</div>"
      ],
      "text/plain": [
       "   Complaints  ZIPCODE  POPULATION  \\\n",
       "0         331    10001     22413.0   \n",
       "1         348    10002     81305.0   \n",
       "2         505    10003     55878.0   \n",
       "\n",
       "                                            geometry  \n",
       "0  POLYGON ((981958.647 213464.453, 981980.328 21...  \n",
       "1  POLYGON ((991339.870 207576.784, 991330.490 20...  \n",
       "2  POLYGON ((989830.469 207048.126, 989716.354 20...  "
      ]
     },
     "execution_count": 264,
     "metadata": {},
     "output_type": "execute_result"
    }
   ],
   "source": [
    "## merge with zips shapefile and normalize 311 complaints by population (per 1000 people)\n",
    "geo311 = zip311.merge(zips, left_on = 'Incident Zip', right_on = 'ZIPCODE')\n",
    "geo311 = geo311.drop(['Incident Zip'], axis = 1)\n",
    "geo311.head(3)"
   ]
  },
  {
   "cell_type": "code",
   "execution_count": 265,
   "metadata": {},
   "outputs": [
    {
     "data": {
      "text/html": [
       "<div>\n",
       "<style scoped>\n",
       "    .dataframe tbody tr th:only-of-type {\n",
       "        vertical-align: middle;\n",
       "    }\n",
       "\n",
       "    .dataframe tbody tr th {\n",
       "        vertical-align: top;\n",
       "    }\n",
       "\n",
       "    .dataframe thead th {\n",
       "        text-align: right;\n",
       "    }\n",
       "</style>\n",
       "<table border=\"1\" class=\"dataframe\">\n",
       "  <thead>\n",
       "    <tr style=\"text-align: right;\">\n",
       "      <th></th>\n",
       "      <th>Complaints</th>\n",
       "      <th>ZIPCODE</th>\n",
       "      <th>POPULATION</th>\n",
       "      <th>geometry</th>\n",
       "      <th>SCORE</th>\n",
       "      <th>violations</th>\n",
       "      <th>RATIOofA</th>\n",
       "      <th>RATIOofB</th>\n",
       "      <th>RATIOofC</th>\n",
       "    </tr>\n",
       "  </thead>\n",
       "  <tbody>\n",
       "    <tr>\n",
       "      <th>0</th>\n",
       "      <td>331</td>\n",
       "      <td>10001</td>\n",
       "      <td>22413.0</td>\n",
       "      <td>POLYGON ((981958.647 213464.453, 981980.328 21...</td>\n",
       "      <td>19.870285</td>\n",
       "      <td>1087</td>\n",
       "      <td>0.435143</td>\n",
       "      <td>0.066237</td>\n",
       "      <td>0.016559</td>\n",
       "    </tr>\n",
       "    <tr>\n",
       "      <th>1</th>\n",
       "      <td>348</td>\n",
       "      <td>10002</td>\n",
       "      <td>81305.0</td>\n",
       "      <td>POLYGON ((991339.870 207576.784, 991330.490 20...</td>\n",
       "      <td>21.900662</td>\n",
       "      <td>1512</td>\n",
       "      <td>0.341270</td>\n",
       "      <td>0.095238</td>\n",
       "      <td>0.029101</td>\n",
       "    </tr>\n",
       "    <tr>\n",
       "      <th>2</th>\n",
       "      <td>505</td>\n",
       "      <td>10003</td>\n",
       "      <td>55878.0</td>\n",
       "      <td>POLYGON ((989830.469 207048.126, 989716.354 20...</td>\n",
       "      <td>19.778047</td>\n",
       "      <td>1650</td>\n",
       "      <td>0.391515</td>\n",
       "      <td>0.089091</td>\n",
       "      <td>0.024242</td>\n",
       "    </tr>\n",
       "  </tbody>\n",
       "</table>\n",
       "</div>"
      ],
      "text/plain": [
       "   Complaints  ZIPCODE  POPULATION  \\\n",
       "0         331    10001     22413.0   \n",
       "1         348    10002     81305.0   \n",
       "2         505    10003     55878.0   \n",
       "\n",
       "                                            geometry      SCORE  violations  \\\n",
       "0  POLYGON ((981958.647 213464.453, 981980.328 21...  19.870285        1087   \n",
       "1  POLYGON ((991339.870 207576.784, 991330.490 20...  21.900662        1512   \n",
       "2  POLYGON ((989830.469 207048.126, 989716.354 20...  19.778047        1650   \n",
       "\n",
       "   RATIOofA  RATIOofB  RATIOofC  \n",
       "0  0.435143  0.066237  0.016559  \n",
       "1  0.341270  0.095238  0.029101  \n",
       "2  0.391515  0.089091  0.024242  "
      ]
     },
     "execution_count": 265,
     "metadata": {},
     "output_type": "execute_result"
    }
   ],
   "source": [
    "## merge with the violations features data from above\n",
    "mergedf = geo311.merge(five)\n",
    "mergedf.head(3)"
   ]
  },
  {
   "cell_type": "markdown",
   "metadata": {},
   "source": [
    "### Normalize the number of 311 complaints and number of violations by population (per 1000 people)"
   ]
  },
  {
   "cell_type": "code",
   "execution_count": 266,
   "metadata": {},
   "outputs": [
    {
     "data": {
      "text/html": [
       "<div>\n",
       "<style scoped>\n",
       "    .dataframe tbody tr th:only-of-type {\n",
       "        vertical-align: middle;\n",
       "    }\n",
       "\n",
       "    .dataframe tbody tr th {\n",
       "        vertical-align: top;\n",
       "    }\n",
       "\n",
       "    .dataframe thead th {\n",
       "        text-align: right;\n",
       "    }\n",
       "</style>\n",
       "<table border=\"1\" class=\"dataframe\">\n",
       "  <thead>\n",
       "    <tr style=\"text-align: right;\">\n",
       "      <th></th>\n",
       "      <th>Complaints</th>\n",
       "      <th>ZIPCODE</th>\n",
       "      <th>POPULATION</th>\n",
       "      <th>geometry</th>\n",
       "      <th>SCORE</th>\n",
       "      <th>violations</th>\n",
       "      <th>RATIOofA</th>\n",
       "      <th>RATIOofB</th>\n",
       "      <th>RATIOofC</th>\n",
       "      <th>compnorm</th>\n",
       "      <th>vionorm</th>\n",
       "    </tr>\n",
       "  </thead>\n",
       "  <tbody>\n",
       "    <tr>\n",
       "      <th>0</th>\n",
       "      <td>331</td>\n",
       "      <td>10001</td>\n",
       "      <td>22413.0</td>\n",
       "      <td>POLYGON ((981958.647 213464.453, 981980.328 21...</td>\n",
       "      <td>19.870285</td>\n",
       "      <td>1087</td>\n",
       "      <td>0.435143</td>\n",
       "      <td>0.066237</td>\n",
       "      <td>0.016559</td>\n",
       "      <td>14.768215</td>\n",
       "      <td>48.498639</td>\n",
       "    </tr>\n",
       "    <tr>\n",
       "      <th>1</th>\n",
       "      <td>348</td>\n",
       "      <td>10002</td>\n",
       "      <td>81305.0</td>\n",
       "      <td>POLYGON ((991339.870 207576.784, 991330.490 20...</td>\n",
       "      <td>21.900662</td>\n",
       "      <td>1512</td>\n",
       "      <td>0.341270</td>\n",
       "      <td>0.095238</td>\n",
       "      <td>0.029101</td>\n",
       "      <td>4.280180</td>\n",
       "      <td>18.596642</td>\n",
       "    </tr>\n",
       "    <tr>\n",
       "      <th>2</th>\n",
       "      <td>505</td>\n",
       "      <td>10003</td>\n",
       "      <td>55878.0</td>\n",
       "      <td>POLYGON ((989830.469 207048.126, 989716.354 20...</td>\n",
       "      <td>19.778047</td>\n",
       "      <td>1650</td>\n",
       "      <td>0.391515</td>\n",
       "      <td>0.089091</td>\n",
       "      <td>0.024242</td>\n",
       "      <td>9.037546</td>\n",
       "      <td>29.528616</td>\n",
       "    </tr>\n",
       "  </tbody>\n",
       "</table>\n",
       "</div>"
      ],
      "text/plain": [
       "   Complaints  ZIPCODE  POPULATION  \\\n",
       "0         331    10001     22413.0   \n",
       "1         348    10002     81305.0   \n",
       "2         505    10003     55878.0   \n",
       "\n",
       "                                            geometry      SCORE  violations  \\\n",
       "0  POLYGON ((981958.647 213464.453, 981980.328 21...  19.870285        1087   \n",
       "1  POLYGON ((991339.870 207576.784, 991330.490 20...  21.900662        1512   \n",
       "2  POLYGON ((989830.469 207048.126, 989716.354 20...  19.778047        1650   \n",
       "\n",
       "   RATIOofA  RATIOofB  RATIOofC   compnorm    vionorm  \n",
       "0  0.435143  0.066237  0.016559  14.768215  48.498639  \n",
       "1  0.341270  0.095238  0.029101   4.280180  18.596642  \n",
       "2  0.391515  0.089091  0.024242   9.037546  29.528616  "
      ]
     },
     "execution_count": 266,
     "metadata": {},
     "output_type": "execute_result"
    }
   ],
   "source": [
    "mergedf['compnorm'] = mergedf['Complaints']/mergedf['POPULATION']*1000\n",
    "mergedf['vionorm'] = mergedf['violations']/mergedf['POPULATION']*1000\n",
    "mergedf.head(3)"
   ]
  },
  {
   "cell_type": "code",
   "execution_count": 267,
   "metadata": {},
   "outputs": [
    {
     "data": {
      "text/plain": [
       "(222, 11)"
      ]
     },
     "execution_count": 267,
     "metadata": {},
     "output_type": "execute_result"
    }
   ],
   "source": [
    "mergedf.shape"
   ]
  },
  {
   "cell_type": "code",
   "execution_count": 268,
   "metadata": {},
   "outputs": [
    {
     "data": {
      "text/html": [
       "<div>\n",
       "<style scoped>\n",
       "    .dataframe tbody tr th:only-of-type {\n",
       "        vertical-align: middle;\n",
       "    }\n",
       "\n",
       "    .dataframe tbody tr th {\n",
       "        vertical-align: top;\n",
       "    }\n",
       "\n",
       "    .dataframe thead th {\n",
       "        text-align: right;\n",
       "    }\n",
       "</style>\n",
       "<table border=\"1\" class=\"dataframe\">\n",
       "  <thead>\n",
       "    <tr style=\"text-align: right;\">\n",
       "      <th></th>\n",
       "      <th>Complaints</th>\n",
       "      <th>ZIPCODE</th>\n",
       "      <th>POPULATION</th>\n",
       "      <th>SCORE</th>\n",
       "      <th>violations</th>\n",
       "      <th>RATIOofA</th>\n",
       "      <th>RATIOofB</th>\n",
       "      <th>RATIOofC</th>\n",
       "      <th>compnorm</th>\n",
       "      <th>vionorm</th>\n",
       "    </tr>\n",
       "  </thead>\n",
       "  <tbody>\n",
       "    <tr>\n",
       "      <th>count</th>\n",
       "      <td>222.000000</td>\n",
       "      <td>222.000000</td>\n",
       "      <td>222.000000</td>\n",
       "      <td>214.000000</td>\n",
       "      <td>222.000000</td>\n",
       "      <td>212.000000</td>\n",
       "      <td>181.000000</td>\n",
       "      <td>153.000000</td>\n",
       "      <td>222.000000</td>\n",
       "      <td>214.000000</td>\n",
       "    </tr>\n",
       "    <tr>\n",
       "      <th>mean</th>\n",
       "      <td>104.256757</td>\n",
       "      <td>10737.400901</td>\n",
       "      <td>37829.734234</td>\n",
       "      <td>19.290077</td>\n",
       "      <td>316.018018</td>\n",
       "      <td>0.452686</td>\n",
       "      <td>0.079864</td>\n",
       "      <td>0.039364</td>\n",
       "      <td>inf</td>\n",
       "      <td>inf</td>\n",
       "    </tr>\n",
       "    <tr>\n",
       "      <th>std</th>\n",
       "      <td>98.934742</td>\n",
       "      <td>587.596451</td>\n",
       "      <td>28920.821732</td>\n",
       "      <td>3.452114</td>\n",
       "      <td>334.964386</td>\n",
       "      <td>0.142428</td>\n",
       "      <td>0.044738</td>\n",
       "      <td>0.033598</td>\n",
       "      <td>NaN</td>\n",
       "      <td>NaN</td>\n",
       "    </tr>\n",
       "    <tr>\n",
       "      <th>min</th>\n",
       "      <td>1.000000</td>\n",
       "      <td>10001.000000</td>\n",
       "      <td>0.000000</td>\n",
       "      <td>6.500000</td>\n",
       "      <td>0.000000</td>\n",
       "      <td>0.260870</td>\n",
       "      <td>0.007752</td>\n",
       "      <td>0.004202</td>\n",
       "      <td>0.170940</td>\n",
       "      <td>0.512821</td>\n",
       "    </tr>\n",
       "    <tr>\n",
       "      <th>25%</th>\n",
       "      <td>28.000000</td>\n",
       "      <td>10119.500000</td>\n",
       "      <td>12351.250000</td>\n",
       "      <td>18.222810</td>\n",
       "      <td>72.000000</td>\n",
       "      <td>0.381593</td>\n",
       "      <td>0.050420</td>\n",
       "      <td>0.021569</td>\n",
       "      <td>1.514168</td>\n",
       "      <td>3.508275</td>\n",
       "    </tr>\n",
       "    <tr>\n",
       "      <th>50%</th>\n",
       "      <td>76.000000</td>\n",
       "      <td>10471.500000</td>\n",
       "      <td>35223.500000</td>\n",
       "      <td>19.589863</td>\n",
       "      <td>232.000000</td>\n",
       "      <td>0.417765</td>\n",
       "      <td>0.074627</td>\n",
       "      <td>0.029412</td>\n",
       "      <td>2.671713</td>\n",
       "      <td>6.585415</td>\n",
       "    </tr>\n",
       "    <tr>\n",
       "      <th>75%</th>\n",
       "      <td>144.750000</td>\n",
       "      <td>11354.750000</td>\n",
       "      <td>58450.500000</td>\n",
       "      <td>21.352765</td>\n",
       "      <td>400.750000</td>\n",
       "      <td>0.470798</td>\n",
       "      <td>0.093023</td>\n",
       "      <td>0.046429</td>\n",
       "      <td>5.519363</td>\n",
       "      <td>16.408732</td>\n",
       "    </tr>\n",
       "    <tr>\n",
       "      <th>max</th>\n",
       "      <td>505.000000</td>\n",
       "      <td>11697.000000</td>\n",
       "      <td>109069.000000</td>\n",
       "      <td>31.000000</td>\n",
       "      <td>1650.000000</td>\n",
       "      <td>1.000000</td>\n",
       "      <td>0.333333</td>\n",
       "      <td>0.285714</td>\n",
       "      <td>inf</td>\n",
       "      <td>inf</td>\n",
       "    </tr>\n",
       "  </tbody>\n",
       "</table>\n",
       "</div>"
      ],
      "text/plain": [
       "       Complaints       ZIPCODE     POPULATION       SCORE   violations  \\\n",
       "count  222.000000    222.000000     222.000000  214.000000   222.000000   \n",
       "mean   104.256757  10737.400901   37829.734234   19.290077   316.018018   \n",
       "std     98.934742    587.596451   28920.821732    3.452114   334.964386   \n",
       "min      1.000000  10001.000000       0.000000    6.500000     0.000000   \n",
       "25%     28.000000  10119.500000   12351.250000   18.222810    72.000000   \n",
       "50%     76.000000  10471.500000   35223.500000   19.589863   232.000000   \n",
       "75%    144.750000  11354.750000   58450.500000   21.352765   400.750000   \n",
       "max    505.000000  11697.000000  109069.000000   31.000000  1650.000000   \n",
       "\n",
       "         RATIOofA    RATIOofB    RATIOofC    compnorm     vionorm  \n",
       "count  212.000000  181.000000  153.000000  222.000000  214.000000  \n",
       "mean     0.452686    0.079864    0.039364         inf         inf  \n",
       "std      0.142428    0.044738    0.033598         NaN         NaN  \n",
       "min      0.260870    0.007752    0.004202    0.170940    0.512821  \n",
       "25%      0.381593    0.050420    0.021569    1.514168    3.508275  \n",
       "50%      0.417765    0.074627    0.029412    2.671713    6.585415  \n",
       "75%      0.470798    0.093023    0.046429    5.519363   16.408732  \n",
       "max      1.000000    0.333333    0.285714         inf         inf  "
      ]
     },
     "execution_count": 268,
     "metadata": {},
     "output_type": "execute_result"
    }
   ],
   "source": [
    "# check statistics of all features\n",
    "mergedf.describe()"
   ]
  },
  {
   "cell_type": "code",
   "execution_count": 269,
   "metadata": {},
   "outputs": [
    {
     "data": {
      "text/html": [
       "<div>\n",
       "<style scoped>\n",
       "    .dataframe tbody tr th:only-of-type {\n",
       "        vertical-align: middle;\n",
       "    }\n",
       "\n",
       "    .dataframe tbody tr th {\n",
       "        vertical-align: top;\n",
       "    }\n",
       "\n",
       "    .dataframe thead th {\n",
       "        text-align: right;\n",
       "    }\n",
       "</style>\n",
       "<table border=\"1\" class=\"dataframe\">\n",
       "  <thead>\n",
       "    <tr style=\"text-align: right;\">\n",
       "      <th></th>\n",
       "      <th>Complaints</th>\n",
       "      <th>ZIPCODE</th>\n",
       "      <th>POPULATION</th>\n",
       "      <th>geometry</th>\n",
       "      <th>SCORE</th>\n",
       "      <th>violations</th>\n",
       "      <th>RATIOofA</th>\n",
       "      <th>RATIOofB</th>\n",
       "      <th>RATIOofC</th>\n",
       "      <th>compnorm</th>\n",
       "      <th>vionorm</th>\n",
       "    </tr>\n",
       "  </thead>\n",
       "  <tbody>\n",
       "    <tr>\n",
       "      <th>0</th>\n",
       "      <td>331</td>\n",
       "      <td>10001</td>\n",
       "      <td>22413.0</td>\n",
       "      <td>POLYGON ((981958.647 213464.453, 981980.328 21...</td>\n",
       "      <td>19.870285</td>\n",
       "      <td>1087</td>\n",
       "      <td>0.435143</td>\n",
       "      <td>0.066237</td>\n",
       "      <td>0.016559</td>\n",
       "      <td>14.768215</td>\n",
       "      <td>48.498639</td>\n",
       "    </tr>\n",
       "    <tr>\n",
       "      <th>1</th>\n",
       "      <td>348</td>\n",
       "      <td>10002</td>\n",
       "      <td>81305.0</td>\n",
       "      <td>POLYGON ((991339.870 207576.784, 991330.490 20...</td>\n",
       "      <td>21.900662</td>\n",
       "      <td>1512</td>\n",
       "      <td>0.341270</td>\n",
       "      <td>0.095238</td>\n",
       "      <td>0.029101</td>\n",
       "      <td>4.280180</td>\n",
       "      <td>18.596642</td>\n",
       "    </tr>\n",
       "    <tr>\n",
       "      <th>2</th>\n",
       "      <td>505</td>\n",
       "      <td>10003</td>\n",
       "      <td>55878.0</td>\n",
       "      <td>POLYGON ((989830.469 207048.126, 989716.354 20...</td>\n",
       "      <td>19.778047</td>\n",
       "      <td>1650</td>\n",
       "      <td>0.391515</td>\n",
       "      <td>0.089091</td>\n",
       "      <td>0.024242</td>\n",
       "      <td>9.037546</td>\n",
       "      <td>29.528616</td>\n",
       "    </tr>\n",
       "  </tbody>\n",
       "</table>\n",
       "</div>"
      ],
      "text/plain": [
       "   Complaints  ZIPCODE  POPULATION  \\\n",
       "0         331    10001     22413.0   \n",
       "1         348    10002     81305.0   \n",
       "2         505    10003     55878.0   \n",
       "\n",
       "                                            geometry      SCORE  violations  \\\n",
       "0  POLYGON ((981958.647 213464.453, 981980.328 21...  19.870285        1087   \n",
       "1  POLYGON ((991339.870 207576.784, 991330.490 20...  21.900662        1512   \n",
       "2  POLYGON ((989830.469 207048.126, 989716.354 20...  19.778047        1650   \n",
       "\n",
       "   RATIOofA  RATIOofB  RATIOofC   compnorm    vionorm  \n",
       "0  0.435143  0.066237  0.016559  14.768215  48.498639  \n",
       "1  0.341270  0.095238  0.029101   4.280180  18.596642  \n",
       "2  0.391515  0.089091  0.024242   9.037546  29.528616  "
      ]
     },
     "execution_count": 269,
     "metadata": {},
     "output_type": "execute_result"
    }
   ],
   "source": [
    "## keep only rows where normalized 311 complaints (per 1000 people) are <30\n",
    "mergedf = mergedf[mergedf['compnorm'] <30]\n",
    "mergedf.head(3)"
   ]
  },
  {
   "cell_type": "code",
   "execution_count": 270,
   "metadata": {},
   "outputs": [
    {
     "data": {
      "text/plain": [
       "(189, 11)"
      ]
     },
     "execution_count": 270,
     "metadata": {},
     "output_type": "execute_result"
    }
   ],
   "source": [
    "mergedf.shape"
   ]
  },
  {
   "cell_type": "markdown",
   "metadata": {},
   "source": [
    "### Visualization\n",
    "\n",
    "Plot normalized number of violations, average score and normalized 311 complaints on separate maps "
   ]
  },
  {
   "cell_type": "code",
   "execution_count": 271,
   "metadata": {},
   "outputs": [
    {
     "data": {
      "text/html": [
       "<div>\n",
       "<style scoped>\n",
       "    .dataframe tbody tr th:only-of-type {\n",
       "        vertical-align: middle;\n",
       "    }\n",
       "\n",
       "    .dataframe tbody tr th {\n",
       "        vertical-align: top;\n",
       "    }\n",
       "\n",
       "    .dataframe thead th {\n",
       "        text-align: right;\n",
       "    }\n",
       "</style>\n",
       "<table border=\"1\" class=\"dataframe\">\n",
       "  <thead>\n",
       "    <tr style=\"text-align: right;\">\n",
       "      <th></th>\n",
       "      <th>Complaints</th>\n",
       "      <th>ZIPCODE</th>\n",
       "      <th>POPULATION</th>\n",
       "      <th>geometry</th>\n",
       "      <th>SCORE</th>\n",
       "      <th>violations</th>\n",
       "      <th>RATIOofA</th>\n",
       "      <th>RATIOofB</th>\n",
       "      <th>RATIOofC</th>\n",
       "      <th>compnorm</th>\n",
       "      <th>vionorm</th>\n",
       "    </tr>\n",
       "  </thead>\n",
       "  <tbody>\n",
       "    <tr>\n",
       "      <th>0</th>\n",
       "      <td>331</td>\n",
       "      <td>10001</td>\n",
       "      <td>22413.0</td>\n",
       "      <td>POLYGON ((981958.647 213464.453, 981980.328 21...</td>\n",
       "      <td>19.870285</td>\n",
       "      <td>1087</td>\n",
       "      <td>0.435143</td>\n",
       "      <td>0.066237</td>\n",
       "      <td>0.016559</td>\n",
       "      <td>14.768215</td>\n",
       "      <td>48.498639</td>\n",
       "    </tr>\n",
       "    <tr>\n",
       "      <th>1</th>\n",
       "      <td>348</td>\n",
       "      <td>10002</td>\n",
       "      <td>81305.0</td>\n",
       "      <td>POLYGON ((991339.870 207576.784, 991330.490 20...</td>\n",
       "      <td>21.900662</td>\n",
       "      <td>1512</td>\n",
       "      <td>0.341270</td>\n",
       "      <td>0.095238</td>\n",
       "      <td>0.029101</td>\n",
       "      <td>4.280180</td>\n",
       "      <td>18.596642</td>\n",
       "    </tr>\n",
       "    <tr>\n",
       "      <th>2</th>\n",
       "      <td>505</td>\n",
       "      <td>10003</td>\n",
       "      <td>55878.0</td>\n",
       "      <td>POLYGON ((989830.469 207048.126, 989716.354 20...</td>\n",
       "      <td>19.778047</td>\n",
       "      <td>1650</td>\n",
       "      <td>0.391515</td>\n",
       "      <td>0.089091</td>\n",
       "      <td>0.024242</td>\n",
       "      <td>9.037546</td>\n",
       "      <td>29.528616</td>\n",
       "    </tr>\n",
       "  </tbody>\n",
       "</table>\n",
       "</div>"
      ],
      "text/plain": [
       "   Complaints  ZIPCODE  POPULATION  \\\n",
       "0         331    10001     22413.0   \n",
       "1         348    10002     81305.0   \n",
       "2         505    10003     55878.0   \n",
       "\n",
       "                                            geometry      SCORE  violations  \\\n",
       "0  POLYGON ((981958.647 213464.453, 981980.328 21...  19.870285        1087   \n",
       "1  POLYGON ((991339.870 207576.784, 991330.490 20...  21.900662        1512   \n",
       "2  POLYGON ((989830.469 207048.126, 989716.354 20...  19.778047        1650   \n",
       "\n",
       "   RATIOofA  RATIOofB  RATIOofC   compnorm    vionorm  \n",
       "0  0.435143  0.066237  0.016559  14.768215  48.498639  \n",
       "1  0.341270  0.095238  0.029101   4.280180  18.596642  \n",
       "2  0.391515  0.089091  0.024242   9.037546  29.528616  "
      ]
     },
     "execution_count": 271,
     "metadata": {},
     "output_type": "execute_result"
    }
   ],
   "source": [
    "geodf = gpd.GeoDataFrame(mergedf, geometry = 'geometry')\n",
    "geodf.head(3)"
   ]
  },
  {
   "cell_type": "code",
   "execution_count": 272,
   "metadata": {},
   "outputs": [
    {
     "data": {
      "text/plain": [
       "<bound method Series.unique of 0      0.016559\n",
       "1      0.029101\n",
       "2      0.024242\n",
       "7      0.026316\n",
       "8      0.041237\n",
       "         ...   \n",
       "217         NaN\n",
       "218         NaN\n",
       "219         NaN\n",
       "220         NaN\n",
       "221         NaN\n",
       "Name: RATIOofC, Length: 189, dtype: float64>"
      ]
     },
     "execution_count": 272,
     "metadata": {},
     "output_type": "execute_result"
    }
   ],
   "source": [
    "geodf['RATIOofC'].unique"
   ]
  },
  {
   "cell_type": "code",
   "execution_count": 273,
   "metadata": {},
   "outputs": [
    {
     "data": {
      "text/plain": [
       "<AxesSubplot:>"
      ]
     },
     "execution_count": 273,
     "metadata": {},
     "output_type": "execute_result"
    },
    {
     "data": {
      "image/png": "[encoded data removed]",
      "text/plain": [
       "<Figure size 720x720 with 1 Axes>"
      ]
     },
     "metadata": {
      "needs_background": "light"
     },
     "output_type": "display_data"
    }
   ],
   "source": [
    "## normalized number of violations (per 1000 people)\n",
    "geodf.plot(column = 'vionorm', k = 10, scheme = 'Quantiles', legend = True,\n",
    "           legend_kwds = {'loc':'upper left'}, cmap = 'Paired', figsize = (10,10))\n"
   ]
  },
  {
   "cell_type": "code",
   "execution_count": 274,
   "metadata": {},
   "outputs": [
    {
     "data": {
      "text/plain": [
       "<AxesSubplot:>"
      ]
     },
     "execution_count": 274,
     "metadata": {},
     "output_type": "execute_result"
    },
    {
     "data": {
      "image/png": "[encoded data removed]",
      "text/plain": [
       "<Figure size 720x720 with 1 Axes>"
      ]
     },
     "metadata": {
      "needs_background": "light"
     },
     "output_type": "display_data"
    }
   ],
   "source": [
    "## average score\n",
    "geodf.plot(column = 'SCORE', k = 10, scheme = 'Quantiles', legend = True,\n",
    "           legend_kwds = {'loc':'upper left'}, cmap = 'Paired', figsize = (10,10))"
   ]
  },
  {
   "cell_type": "code",
   "execution_count": 275,
   "metadata": {},
   "outputs": [
    {
     "data": {
      "text/plain": [
       "<AxesSubplot:>"
      ]
     },
     "execution_count": 275,
     "metadata": {},
     "output_type": "execute_result"
    },
    {
     "data": {
      "image/png": "[encoded data removed]",
      "text/plain": [
       "<Figure size 720x720 with 1 Axes>"
      ]
     },
     "metadata": {
      "needs_background": "light"
     },
     "output_type": "display_data"
    }
   ],
   "source": [
    "## normalized 311 complaints (per 1000 people)\n",
    "geodf.plot(column = 'compnorm', k = 10, scheme = 'Quantiles', legend = True,\n",
    "           legend_kwds = {'loc':'upper left'}, cmap = 'Paired', figsize = (10,10))"
   ]
  },
  {
   "cell_type": "markdown",
   "metadata": {},
   "source": [
    "### Perform clustering analyses by assigning each zipcode to a cluster. Use K-means clustering and choose appropriate number of clusters with average silhouette score and visualize the clusters on the map.\n",
    "\n",
    "Take only the following features: normalized number of violations, average score and ratios for each grade for the task\n",
    "\n",
    "These features make an approximate profile of a neighborhood in terms of the quality and performance of restaurants and food businesses present there. With clustering, we would get an idea about what areas have similar profiles and would help understand the areas where restaurants behave similarly. \n",
    "\n",
    "Make sure to standardize the data before clustering"
   ]
  },
  {
   "cell_type": "code",
   "execution_count": 276,
   "metadata": {},
   "outputs": [
    {
     "data": {
      "text/html": [
       "<div>\n",
       "<style scoped>\n",
       "    .dataframe tbody tr th:only-of-type {\n",
       "        vertical-align: middle;\n",
       "    }\n",
       "\n",
       "    .dataframe tbody tr th {\n",
       "        vertical-align: top;\n",
       "    }\n",
       "\n",
       "    .dataframe thead th {\n",
       "        text-align: right;\n",
       "    }\n",
       "</style>\n",
       "<table border=\"1\" class=\"dataframe\">\n",
       "  <thead>\n",
       "    <tr style=\"text-align: right;\">\n",
       "      <th></th>\n",
       "      <th>vionorm</th>\n",
       "      <th>SCORE</th>\n",
       "      <th>RATIOofA</th>\n",
       "      <th>RATIOofB</th>\n",
       "      <th>RATIOofC</th>\n",
       "    </tr>\n",
       "  </thead>\n",
       "  <tbody>\n",
       "    <tr>\n",
       "      <th>0</th>\n",
       "      <td>48.498639</td>\n",
       "      <td>19.870285</td>\n",
       "      <td>0.435143</td>\n",
       "      <td>0.066237</td>\n",
       "      <td>0.016559</td>\n",
       "    </tr>\n",
       "    <tr>\n",
       "      <th>1</th>\n",
       "      <td>18.596642</td>\n",
       "      <td>21.900662</td>\n",
       "      <td>0.341270</td>\n",
       "      <td>0.095238</td>\n",
       "      <td>0.029101</td>\n",
       "    </tr>\n",
       "    <tr>\n",
       "      <th>2</th>\n",
       "      <td>29.528616</td>\n",
       "      <td>19.778047</td>\n",
       "      <td>0.391515</td>\n",
       "      <td>0.089091</td>\n",
       "      <td>0.024242</td>\n",
       "    </tr>\n",
       "    <tr>\n",
       "      <th>7</th>\n",
       "      <td>14.061922</td>\n",
       "      <td>18.535088</td>\n",
       "      <td>0.500000</td>\n",
       "      <td>0.052632</td>\n",
       "      <td>0.026316</td>\n",
       "    </tr>\n",
       "    <tr>\n",
       "      <th>8</th>\n",
       "      <td>32.215211</td>\n",
       "      <td>20.247423</td>\n",
       "      <td>0.381443</td>\n",
       "      <td>0.051546</td>\n",
       "      <td>0.041237</td>\n",
       "    </tr>\n",
       "    <tr>\n",
       "      <th>...</th>\n",
       "      <td>...</td>\n",
       "      <td>...</td>\n",
       "      <td>...</td>\n",
       "      <td>...</td>\n",
       "      <td>...</td>\n",
       "    </tr>\n",
       "    <tr>\n",
       "      <th>209</th>\n",
       "      <td>7.426500</td>\n",
       "      <td>20.349241</td>\n",
       "      <td>0.425163</td>\n",
       "      <td>0.086768</td>\n",
       "      <td>0.032538</td>\n",
       "    </tr>\n",
       "    <tr>\n",
       "      <th>210</th>\n",
       "      <td>1.425220</td>\n",
       "      <td>18.729167</td>\n",
       "      <td>0.416667</td>\n",
       "      <td>0.062500</td>\n",
       "      <td>0.041667</td>\n",
       "    </tr>\n",
       "    <tr>\n",
       "      <th>211</th>\n",
       "      <td>3.121282</td>\n",
       "      <td>19.375691</td>\n",
       "      <td>0.458564</td>\n",
       "      <td>0.038674</td>\n",
       "      <td>0.055249</td>\n",
       "    </tr>\n",
       "    <tr>\n",
       "      <th>212</th>\n",
       "      <td>5.711183</td>\n",
       "      <td>18.828947</td>\n",
       "      <td>0.409836</td>\n",
       "      <td>0.085246</td>\n",
       "      <td>0.019672</td>\n",
       "    </tr>\n",
       "    <tr>\n",
       "      <th>213</th>\n",
       "      <td>1.659440</td>\n",
       "      <td>20.580645</td>\n",
       "      <td>0.322581</td>\n",
       "      <td>0.161290</td>\n",
       "      <td>0.096774</td>\n",
       "    </tr>\n",
       "  </tbody>\n",
       "</table>\n",
       "<p>144 rows × 5 columns</p>\n",
       "</div>"
      ],
      "text/plain": [
       "       vionorm      SCORE  RATIOofA  RATIOofB  RATIOofC\n",
       "0    48.498639  19.870285  0.435143  0.066237  0.016559\n",
       "1    18.596642  21.900662  0.341270  0.095238  0.029101\n",
       "2    29.528616  19.778047  0.391515  0.089091  0.024242\n",
       "7    14.061922  18.535088  0.500000  0.052632  0.026316\n",
       "8    32.215211  20.247423  0.381443  0.051546  0.041237\n",
       "..         ...        ...       ...       ...       ...\n",
       "209   7.426500  20.349241  0.425163  0.086768  0.032538\n",
       "210   1.425220  18.729167  0.416667  0.062500  0.041667\n",
       "211   3.121282  19.375691  0.458564  0.038674  0.055249\n",
       "212   5.711183  18.828947  0.409836  0.085246  0.019672\n",
       "213   1.659440  20.580645  0.322581  0.161290  0.096774\n",
       "\n",
       "[144 rows x 5 columns]"
      ]
     },
     "execution_count": 276,
     "metadata": {},
     "output_type": "execute_result"
    }
   ],
   "source": [
    "## perform clustring analyses\n",
    "ml = ['vionorm','SCORE', 'RATIOofA','RATIOofB','RATIOofC']\n",
    "new = geodf[ml]\n",
    "new = new.dropna()\n",
    "new"
   ]
  },
  {
   "cell_type": "code",
   "execution_count": 277,
   "metadata": {},
   "outputs": [
    {
     "name": "stdout",
     "output_type": "stream",
     "text": [
      "For n_clusters =3, the average silhouette_score is :0.5830619948236486\n",
      "For n_clusters =4, the average silhouette_score is :0.5812817289877992\n",
      "For n_clusters =5, the average silhouette_score is :0.4510892000014944\n",
      "For n_clusters =6, the average silhouette_score is :0.4222762968674394\n",
      "For n_clusters =7, the average silhouette_score is :0.4283791128027005\n",
      "For n_clusters =8, the average silhouette_score is :0.43237359064882624\n",
      "For n_clusters =9, the average silhouette_score is :0.4011631274813234\n",
      "For n_clusters =10, the average silhouette_score is :0.396327415858354\n",
      "For n_clusters =11, the average silhouette_score is :0.3942057048146722\n",
      "For n_clusters =12, the average silhouette_score is :0.40988687341763064\n",
      "For n_clusters =13, the average silhouette_score is :0.40313043411694444\n",
      "For n_clusters =14, the average silhouette_score is :0.41576056515684623\n",
      "For n_clusters =15, the average silhouette_score is :0.39568988740862554\n"
     ]
    }
   ],
   "source": [
    "## use average silhouette score (just report the scores and choose best for number of clusters to be used)\n",
    "## try with (3-15 clusters)\n",
    "\n",
    "for n_clusters in range(3,16):\n",
    "    km = KMeans(n_clusters=n_clusters, random_state=324)\n",
    "    cluster_labels = km.fit_predict(new)\n",
    "    silhouette_avg = silhouette_score(new, cluster_labels)\n",
    "    print(\"For n_clusters ={},\".format(n_clusters)+\" the average silhouette_score is :{}\".format(silhouette_avg))"
   ]
  },
  {
   "cell_type": "code",
   "execution_count": 278,
   "metadata": {},
   "outputs": [
    {
     "data": {
      "text/plain": [
       "<AxesSubplot:>"
      ]
     },
     "execution_count": 278,
     "metadata": {},
     "output_type": "execute_result"
    },
    {
     "data": {
      "image/png": "[encoded data removed]",
      "text/plain": [
       "<Figure size 720x720 with 1 Axes>"
      ]
     },
     "metadata": {
      "needs_background": "light"
     },
     "output_type": "display_data"
    }
   ],
   "source": [
    "## plot all clustered zips in the map\n",
    "geodf = geodf.dropna()\n",
    "model = KMeans(n_clusters=3, random_state=324).fit(geodf[ml])\n",
    "geodf['label'] = model.predict(geodf[ml]).astype(str)\n",
    "\n",
    "geodf.plot(column='label', legend = True, figsize=(10,10), cmap = 'Paired')"
   ]
  },
  {
   "cell_type": "markdown",
   "metadata": {},
   "source": [
    "### Perform a regression analyses with normalized 311 complaints as the target and above features (normalized number of violations, average score, and ratios of 'A', 'B' and 'C' grades) as regressors. Comment on the signficance of each feature.\n",
    "\n",
    "Include the intercept for the regression analysis. Try performing regression with each of the regressors individually (with normalized 311 complaints as target). Comment on how these regressor perform against each other. What do you think could be any problems when doing regression with all regressors together? Also comment on the coeffiecients of each regressor and whether or not they are significant."
   ]
  },
  {
   "cell_type": "code",
   "execution_count": 279,
   "metadata": {},
   "outputs": [
    {
     "data": {
      "image/png": "[encoded data removed]",
      "text/plain": [
       "<Figure size 1152x720 with 5 Axes>"
      ]
     },
     "metadata": {
      "needs_background": "light"
     },
     "output_type": "display_data"
    }
   ],
   "source": [
    "plt.figure(figsize = (16,10))\n",
    "pList = {}\n",
    "for i, j in enumerate(ml):\n",
    "    plt.subplot(230+i+1)\n",
    "    lm = smf.ols(formula = 'compnorm ~ ' + j, data = geodf).fit()\n",
    "    plt.plot(geodf[j],geodf['compnorm'],'.r')\n",
    "    plt.plot(geodf[j],lm.predict(),'b')\n",
    "    plt.xlabel(j)\n",
    "    plt.ylabel('Normalized Complaints')\n",
    "    pList[j] = lm.pvalues[j]"
   ]
  },
  {
   "cell_type": "code",
   "execution_count": 280,
   "metadata": {},
   "outputs": [
    {
     "data": {
      "text/plain": [
       "{'vionorm': 2.1634417513036563e-66,\n",
       " 'SCORE': 0.9604086418512424,\n",
       " 'RATIOofA': 0.08024861494631318,\n",
       " 'RATIOofB': 0.10540973998195012,\n",
       " 'RATIOofC': 0.04842083922761073}"
      ]
     },
     "execution_count": 280,
     "metadata": {},
     "output_type": "execute_result"
    }
   ],
   "source": [
    "pList\n",
    "# normalized violation and ration of grade C are significant"
   ]
  },
  {
   "cell_type": "code",
   "execution_count": 281,
   "metadata": {},
   "outputs": [
    {
     "data": {
      "text/plain": [
       "Intercept    2.781262e-02\n",
       "vionorm      1.076952e-64\n",
       "SCORE        5.853186e-02\n",
       "RATIOofA     1.498693e-02\n",
       "RATIOofB     6.143028e-01\n",
       "RATIOofC     6.559278e-01\n",
       "dtype: float64"
      ]
     },
     "execution_count": 281,
     "metadata": {},
     "output_type": "execute_result"
    }
   ],
   "source": [
    "lm = smf.ols(formula = 'compnorm ~ ' +'+'.join(ml), data = geodf).fit()\n",
    "lm.pvalues"
   ]
  },
  {
   "cell_type": "code",
   "execution_count": 282,
   "metadata": {},
   "outputs": [],
   "source": [
    "# Intercept, normalized violations and ratio of grade A are significant.\n",
    "# when doing regression with all regressors together, regressors will influence each other because of correlation."
   ]
  },
  {
   "cell_type": "code",
   "execution_count": null,
   "metadata": {},
   "outputs": [],
   "source": []
  }
 ],
 "metadata": {
  "kernelspec": {
   "display_name": "Python [conda env:PUI]",
   "language": "python",
   "name": "conda-env-PUI-py"
  },
  "language_info": {
   "codemirror_mode": {
    "name": "ipython",
    "version": 3
   },
   "file_extension": ".py",
   "mimetype": "text/x-python",
   "name": "python",
   "nbconvert_exporter": "python",
   "pygments_lexer": "ipython3",
   "version": "3.8.10"
  }
 },
 "nbformat": 4,
 "nbformat_minor": 2
}
