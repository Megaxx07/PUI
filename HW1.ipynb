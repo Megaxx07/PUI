{
 "cells": [
  {
   "cell_type": "markdown",
   "metadata": {},
   "source": [
    "# Data input\n",
    "\n",
    "Submission deadline: Sept 20 11:59 AM"
   ]
  },
  {
   "cell_type": "markdown",
   "metadata": {},
   "source": [
    "In general data can be acquired as:\n",
    "* downloadable files (e.g. CSV, txt, Excel, JSON files and other common data formats)\n",
    "* through API (Application Program Interface)\n",
    "* through databases "
   ]
  },
  {
   "cell_type": "markdown",
   "metadata": {},
   "source": [
    "In this lab we will provide examples how to work with downloadable data in the two most common formats:\n",
    "* comma-separated-values (CSV) or text files (txt) more generally \n",
    "* and Excel or XLS files\n",
    "\n",
    "Also as urban analytics is often inherently spatial we'll consider another specific format often used for the spatial data: JSON"
   ]
  },
  {
   "cell_type": "markdown",
   "metadata": {},
   "source": [
    "We will also provide some basic descriptive analytics, like getting the number of records, defining timeframes or summing up numeric columns.\n",
    "\n",
    "It is always a good idea to start data analytics with such descriptive analysis as not only it gives an idea of the scale (and thus utility) of the data, but also allows to spot possible issues"
   ]
  },
  {
   "cell_type": "code",
   "execution_count": null,
   "metadata": {},
   "outputs": [],
   "source": [
    "import pandas as pd #first we'll need module pandas to work with the dataframes\n",
    "%matplotlib inline"
   ]
  },
  {
   "cell_type": "markdown",
   "metadata": {},
   "source": [
    "## Example 1. The 311 service requests (CSV) in Boston\n",
    "\n",
    "The data contains all 311 call service requests, including their time, location, type of issue and many other details\n",
    "\n",
    "Source https://data.boston.gov/dataset/311-service-requests"
   ]
  },
  {
   "cell_type": "code",
   "execution_count": null,
   "metadata": {},
   "outputs": [],
   "source": [
    "#lets specify the file location on the web\n",
    "#we can actually upload the data directly from there!\n",
    "#the data is provided by year, so consider the most recent full year available - 2019\n",
    "fname = '311_service_requests_2020.csv'"
   ]
  },
  {
   "cell_type": "code",
   "execution_count": null,
   "metadata": {},
   "outputs": [],
   "source": [
    "boston311 = pd.read_csv(fname) #upload the data"
   ]
  },
  {
   "cell_type": "code",
   "execution_count": null,
   "metadata": {},
   "outputs": [],
   "source": [
    "#preview the data\n",
    "boston311.head()"
   ]
  },
  {
   "cell_type": "code",
   "execution_count": null,
   "metadata": {},
   "outputs": [],
   "source": [
    "#get the list of columns\n",
    "boston311.columns"
   ]
  },
  {
   "cell_type": "code",
   "execution_count": null,
   "metadata": {},
   "outputs": [],
   "source": [
    "#get the total number of records\n",
    "len(boston311)"
   ]
  },
  {
   "cell_type": "code",
   "execution_count": null,
   "metadata": {},
   "outputs": [],
   "source": [
    "#summary statistics for all the numeric columns\n",
    "boston311.describe()"
   ]
  },
  {
   "cell_type": "markdown",
   "metadata": {},
   "source": [
    "Gives a good idea of how many records have a valid number defined and also averages and ranges for latitute/logitude\n",
    "\n",
    "statistics for zipcode and id won't make that much sense \n",
    "\n",
    "as while these data has numeric type its categorical in nature and computing averages is somewhat meaningless"
   ]
  },
  {
   "cell_type": "markdown",
   "metadata": {},
   "source": [
    "Some additional descriptive analysis one might be interested is to learn more about the categorical variables, e.g. subject, reason, type, neighborhood, zip_code"
   ]
  },
  {
   "cell_type": "code",
   "execution_count": null,
   "metadata": {},
   "outputs": [],
   "source": [
    "#first let's get the list of unique values for each, or at least the number of such values"
   ]
  },
  {
   "cell_type": "code",
   "execution_count": null,
   "metadata": {},
   "outputs": [],
   "source": [
    "boston311.subject.unique()"
   ]
  },
  {
   "cell_type": "code",
   "execution_count": null,
   "metadata": {},
   "outputs": [],
   "source": [
    "len(boston311.subject.unique())"
   ]
  },
  {
   "cell_type": "code",
   "execution_count": null,
   "metadata": {},
   "outputs": [],
   "source": [
    "len(boston311.reason.unique())"
   ]
  },
  {
   "cell_type": "code",
   "execution_count": null,
   "metadata": {},
   "outputs": [],
   "source": [
    "len(boston311.type.unique())"
   ]
  },
  {
   "cell_type": "markdown",
   "metadata": {},
   "source": [
    "And if e.g. we want to know the number of complaints per subject we can group the dataframe as following"
   ]
  },
  {
   "cell_type": "code",
   "execution_count": null,
   "metadata": {},
   "outputs": [],
   "source": [
    "boston311['subject'].value_counts()"
   ]
  },
  {
   "cell_type": "code",
   "execution_count": null,
   "metadata": {},
   "outputs": [],
   "source": [
    "#or visualizing as a histogram\n",
    "boston311[['subject','case_enquiry_id']].groupby(by=['subject']).count().plot.bar()"
   ]
  },
  {
   "cell_type": "markdown",
   "metadata": {},
   "source": [
    "### Task 1. Count the number of unique neighborhoods (1 pt)"
   ]
  },
  {
   "cell_type": "code",
   "execution_count": null,
   "metadata": {
    "deletable": false,
    "nbgrader": {
     "cell_type": "code",
     "checksum": "2d669999681fde23d6bca62baea8805e",
     "grade": false,
     "grade_id": "cell-a8413268b66a106a",
     "locked": false,
     "schema_version": 3,
     "solution": true,
     "task": false
    }
   },
   "outputs": [],
   "source": [
    "# complete the below function with solution code. The function should return the number of unique neighborhoods\n",
    "\n",
    "def printCount(boston311):\n",
    "    \n",
    "    '''Count the number of unique neighborhoods'''\n",
    "    \n",
    "    # YOUR CODE HERE\n",
    "    raise NotImplementedError()"
   ]
  },
  {
   "cell_type": "code",
   "execution_count": null,
   "metadata": {
    "deletable": false,
    "editable": false,
    "nbgrader": {
     "cell_type": "code",
     "checksum": "f9ed8a7f6967520820bd08d979c792f2",
     "grade": true,
     "grade_id": "cell-cf5c411cee5930e6",
     "locked": true,
     "points": 1,
     "schema_version": 3,
     "solution": false,
     "task": false
    }
   },
   "outputs": [],
   "source": []
  },
  {
   "cell_type": "markdown",
   "metadata": {},
   "source": [
    "### Task 2: Visualize the number of complaints by neighborhood (1 pt)"
   ]
  },
  {
   "cell_type": "code",
   "execution_count": null,
   "metadata": {
    "deletable": false,
    "nbgrader": {
     "cell_type": "code",
     "checksum": "0207fd6fa97f79ee5d0d473eff6859db",
     "grade": true,
     "grade_id": "cell-0d507c260cbf5b99",
     "locked": false,
     "points": 1,
     "schema_version": 3,
     "solution": true,
     "task": false
    }
   },
   "outputs": [],
   "source": [
    "# YOUR CODE HERE\n",
    "raise NotImplementedError()"
   ]
  },
  {
   "cell_type": "markdown",
   "metadata": {},
   "source": [
    "## Example 2. Real-estate data sales (XLS)\n",
    "\n",
    "The data contains information on all the residential real estate sold in NYC, including address of the house/unit, its size, age, time of sale and of course the price"
   ]
  },
  {
   "cell_type": "code",
   "execution_count": null,
   "metadata": {},
   "outputs": [],
   "source": [
    "url = '2015_brooklyn.xls'"
   ]
  },
  {
   "cell_type": "code",
   "execution_count": null,
   "metadata": {},
   "outputs": [],
   "source": [
    "re_sales = pd.read_excel(url)"
   ]
  },
  {
   "cell_type": "code",
   "execution_count": null,
   "metadata": {},
   "outputs": [],
   "source": [
    "re_sales.head()"
   ]
  },
  {
   "cell_type": "markdown",
   "metadata": {},
   "source": [
    "We'll need to skip first 4 lines to make it pandas-frienly \n",
    "\n",
    "And also consider alternative data ingestion approach: download to the local folder first and then upload from local drive"
   ]
  },
  {
   "cell_type": "code",
   "execution_count": null,
   "metadata": {},
   "outputs": [],
   "source": [
    "#now upload the data, also skipping first 4 rows\n",
    "re_sales = pd.read_excel(dataDir+fname,skiprows=4)"
   ]
  },
  {
   "cell_type": "code",
   "execution_count": null,
   "metadata": {},
   "outputs": [],
   "source": [
    "re_sales.head() #now the dataframe looks reasonable"
   ]
  },
  {
   "cell_type": "code",
   "execution_count": null,
   "metadata": {},
   "outputs": [],
   "source": [
    "re_sales.columns #list of the columns to assess the metadata"
   ]
  },
  {
   "cell_type": "code",
   "execution_count": null,
   "metadata": {},
   "outputs": [],
   "source": [
    "#notice that field names contain an artifact from the original data represenation - end of line symbol '\\n'\n",
    "#this way we won't be able to access the fields as before using \".\" syntax, but we can still use \"[]\" syntax like"
   ]
  },
  {
   "cell_type": "code",
   "execution_count": null,
   "metadata": {},
   "outputs": [],
   "source": [
    "re_sales['SALE PRICE\\n'].sum() #this will be the total sales volume"
   ]
  },
  {
   "cell_type": "code",
   "execution_count": null,
   "metadata": {},
   "outputs": [],
   "source": [
    "re_sales.describe() #statistics for numeric columns"
   ]
  },
  {
   "cell_type": "markdown",
   "metadata": {},
   "source": [
    "It also helps us spot some issues with the data - zero min's for zip code, size, year (also average age of 1774 does not look right and is likely affected by that), sale price show that some records are unreliable"
   ]
  },
  {
   "cell_type": "markdown",
   "metadata": {},
   "source": [
    "Also lets introduce some descriptive analysis, e.g. total price and average price per unit"
   ]
  },
  {
   "cell_type": "code",
   "execution_count": null,
   "metadata": {},
   "outputs": [],
   "source": [
    "re_sales['SALE PRICE\\n'].mean() #average price per unit"
   ]
  },
  {
   "cell_type": "code",
   "execution_count": null,
   "metadata": {},
   "outputs": [],
   "source": [
    "#or visualizing an average sale price per zip code \n",
    "#ideally this would make more sense as a spatial visualization on the map. but let us get to that later\n",
    "#we'll use groupby here. Note that groupby will apply mean to all the fields other than the ones used for grouping (by)\n",
    "#so we first filter the datarame to keep only two columns - 'ZIP CODE\\n','SALE PRICE\\n' - first for grouping, second for taking averages\n",
    "re_sales[['ZIP CODE\\n','SALE PRICE\\n']].groupby(by=['ZIP CODE\\n']).mean()"
   ]
  },
  {
   "cell_type": "code",
   "execution_count": null,
   "metadata": {},
   "outputs": [],
   "source": [
    "re_sales[['ZIP CODE\\n','SALE PRICE\\n']].groupby(by=['ZIP CODE\\n']).mean().plot.bar()"
   ]
  },
  {
   "cell_type": "markdown",
   "metadata": {},
   "source": [
    "But price per unit is not always the best characteristics of the market as units might be quite different, ranging from small studios to large houses. Besides particularly expensive ones may affect the averages. Median price is often used along with the price per square foot. In the next excercise, we'll try to compute an average price per square foot. For now let's skip the technical issue like missing/zero data and just plow ahead. In the next lab we'll talk about how those should addressed."
   ]
  },
  {
   "cell_type": "markdown",
   "metadata": {},
   "source": [
    "### Task 3.  (1 pt)\n",
    "Quantify the average price per square foot per zip code. Visualize result as a bar plot. Which zip codes are the three most expensive ones?"
   ]
  },
  {
   "cell_type": "markdown",
   "metadata": {},
   "source": [
    "Hints: First, use \"group_by\" to create an aggregate with cumulative price and sq foot size and then add a new field through assignment dividing one by the other. \n",
    "\n",
    "You can use sort_values to order dataframe by price per zip code and see the top three zip codes.\n",
    "\n",
    "Not mandatory, but if you want python to give you a specific list of the top three zip codes, you can use .iloc to slice it and get the index converting it to a list. But then make sure to ignore zip codes with infinite prices (likely due to zero house sizes)."
   ]
  },
  {
   "cell_type": "code",
   "execution_count": null,
   "metadata": {
    "deletable": false,
    "nbgrader": {
     "cell_type": "code",
     "checksum": "9337ee16e905b630e7439c83ec90dbfd",
     "grade": true,
     "grade_id": "cell-2240eb2d9b98684c",
     "locked": false,
     "points": 1,
     "schema_version": 3,
     "solution": true,
     "task": false
    }
   },
   "outputs": [],
   "source": [
    "# YOUR CODE HERE\n",
    "raise NotImplementedError()"
   ]
  },
  {
   "cell_type": "markdown",
   "metadata": {},
   "source": [
    "## Example 3. Street Pavement Rating\n",
    "\n",
    "The New York City Department of Transportation is responsible for keeping the City's streets in good repair. The Agency performs ongoing assessment of New York City streets. Ratings are based on a scale from 1 to 10, and results are grouped in the following categories: Good (%) - ratings of 8 to 10, Fair (%) - ratings of 4 to 7, and Poor (%) - ratings of 1 to 3. Rating dates started from 1994 to 2019. This data will allow you to create a map."
   ]
  },
  {
   "cell_type": "markdown",
   "metadata": {},
   "source": [
    "GeoJSON is a JSON based format designed to represent the geographical features with their non-spatial attributes. Besides GeoJSON, shapefile is also a common format for geographical datasets. For more information, please check https://geojson.org/."
   ]
  },
  {
   "cell_type": "markdown",
   "metadata": {},
   "source": [
    "As JSON contains spatial information (in this case shapes of the streets) along with the data, we'll need a slightly different vehicle to load it. There is a module geopandas which we'll use below. In short its just like pandas, but having a special column \"geometry\" which is meant to contain spatial info"
   ]
  },
  {
   "cell_type": "code",
   "execution_count": null,
   "metadata": {},
   "outputs": [],
   "source": [
    "import geopandas as gpd\n",
    "url = 'Street_Pavement_Rating.geojson'\n",
    "\n",
    "rating = gpd.read_file(url)"
   ]
  },
  {
   "cell_type": "code",
   "execution_count": null,
   "metadata": {},
   "outputs": [],
   "source": [
    "rating.shape #shape of the dataframe - first is the number of records (streets)"
   ]
  },
  {
   "cell_type": "code",
   "execution_count": null,
   "metadata": {},
   "outputs": [],
   "source": [
    "rating.head() #lets preview the data"
   ]
  },
  {
   "cell_type": "code",
   "execution_count": null,
   "metadata": {},
   "outputs": [],
   "source": [
    "rating.iloc[:,:-1].describe() #note that we can't apply describe to a geometry column so need to exclude it first"
   ]
  },
  {
   "cell_type": "code",
   "execution_count": null,
   "metadata": {},
   "outputs": [],
   "source": [
    "#Notice that this time describe look differently. This is because the values in the dataframe are not treated as numbers but categorical values"
   ]
  },
  {
   "cell_type": "code",
   "execution_count": null,
   "metadata": {},
   "outputs": [],
   "source": [
    "#if we want them as numbers we need to perform type convertion\n",
    "rating['length'] = rating['length'].astype(int)\n",
    "rating['length'].describe()"
   ]
  },
  {
   "cell_type": "code",
   "execution_count": null,
   "metadata": {},
   "outputs": [],
   "source": [
    "#now let's count how many streets are in either condition based on 'rating_word'\n",
    "rating['rating_word'].value_counts()"
   ]
  },
  {
   "cell_type": "code",
   "execution_count": null,
   "metadata": {},
   "outputs": [],
   "source": [
    "#now let's count the cumulative length of those in either condition based on 'rating_word'\n",
    "rating[['rating_word','length']].groupby(by=['rating_word']).sum()"
   ]
  },
  {
   "cell_type": "code",
   "execution_count": null,
   "metadata": {},
   "outputs": [],
   "source": [
    "#and visualize overall conditions of the roads using piechart\n",
    "rating[['rating_word','length']].groupby(by=['rating_word']).sum().plot.pie(y='length')"
   ]
  },
  {
   "cell_type": "markdown",
   "metadata": {},
   "source": [
    "And let's use the true power of geopandas - visualize the streetmap"
   ]
  },
  {
   "cell_type": "code",
   "execution_count": null,
   "metadata": {},
   "outputs": [],
   "source": [
    "rating.plot(column=None, figsize=(10,10)) #first just the shapes of the streetmap without any information"
   ]
  },
  {
   "cell_type": "code",
   "execution_count": null,
   "metadata": {},
   "outputs": [],
   "source": [
    "#and now visualize the streets according to their status \n",
    "rating.plot(column='rating_word',cmap='Spectral',figsize=(10,10),legend=True)"
   ]
  },
  {
   "cell_type": "markdown",
   "metadata": {},
   "source": [
    "### Task 4. (1 pt)\n",
    "Visualize only the poorly maintained roads so we can zoom into those that need particular attention.\n",
    "\n",
    "HINT: Filter the dataframe first using slicing by an appropriate condition on rating.rating_word"
   ]
  },
  {
   "cell_type": "code",
   "execution_count": null,
   "metadata": {
    "deletable": false,
    "nbgrader": {
     "cell_type": "code",
     "checksum": "dc324f612ae78d97bd7f20bfca5e588a",
     "grade": true,
     "grade_id": "cell-3295992ea2e4b512",
     "locked": false,
     "points": 1,
     "schema_version": 3,
     "solution": true,
     "task": false
    }
   },
   "outputs": [],
   "source": [
    "# YOUR CODE HERE\n",
    "raise NotImplementedError()"
   ]
  },
  {
   "cell_type": "markdown",
   "metadata": {},
   "source": [
    "### Task 5. COVID-19 Data by ZIP Code (3 pts)\n",
    "\n",
    "This dataset includes confirmed case rates, case counts, death rates, death counts, and the percent of people tested with a positive result since March. Follwing download links refer to the dataset uploaded on Sep 1st. Dataset is provided by NYC health, please check https://www1.nyc.gov/site/doh/covid/covid-19-data.page for more information and other COVID19 related datasets.\n",
    "\n",
    "Task: \n",
    "    \n",
    "    a) Aggregate dataset by Borough, calculate total cases amount in each Borough, and then visualize as a barplot\n",
    "    \n",
    "    b) Calculate borough-wise positive case percentage among all the tests administered and \n",
    "    \n",
    "    c) among the borough population (%% of populating tested positive), and then visualize as barplots. \n",
    "    \n",
    "    Notice that both quantities b) and c) matter as otherwise the percentage of people tested positive might depend on the testing availability and practice which are not necessary consistent among boroughs.\n",
    "\n",
    "\n",
    "Hint: The column for case amount is “COVID_CASE_COUNT\". Try groupby function in pandas to get total cases and tests by borough. Positive case percentage is ‘100*COVID_CASE_COUNT'/'TOTAL_COVID_TESTS'. To calculate positive case percentage, you might first need a borough level dataframe."
   ]
  },
  {
   "cell_type": "code",
   "execution_count": null,
   "metadata": {},
   "outputs": [],
   "source": [
    "url = 'https://raw.githubusercontent.com/nychealth/coronavirus-data/7953c97d1e58bbed9934ea04affb12ca74d9c0fb/data-by-modzcta.csv'\n",
    "\n",
    "df = pd.read_csv(url)"
   ]
  },
  {
   "cell_type": "code",
   "execution_count": null,
   "metadata": {
    "deletable": false,
    "nbgrader": {
     "cell_type": "code",
     "checksum": "97ec808310a985076583aaaf656211e6",
     "grade": true,
     "grade_id": "cell-d257402b07b4862b",
     "locked": false,
     "points": 3,
     "schema_version": 3,
     "solution": true,
     "task": false
    }
   },
   "outputs": [],
   "source": [
    "# YOUR CODE HERE\n",
    "raise NotImplementedError()"
   ]
  },
  {
   "cell_type": "code",
   "execution_count": null,
   "metadata": {},
   "outputs": [],
   "source": []
  }
 ],
 "metadata": {
  "kernelspec": {
   "display_name": "Python 3 (ipykernel)",
   "language": "python",
   "name": "python3"
  },
  "language_info": {
   "codemirror_mode": {
    "name": "ipython",
    "version": 3
   },
   "file_extension": ".py",
   "mimetype": "text/x-python",
   "name": "python",
   "nbconvert_exporter": "python",
   "pygments_lexer": "ipython3",
   "version": "3.9.7"
  }
 },
 "nbformat": 4,
 "nbformat_minor": 2
}
